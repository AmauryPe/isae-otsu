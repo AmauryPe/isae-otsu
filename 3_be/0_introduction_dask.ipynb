{
 "cells": [
  {
   "cell_type": "markdown",
   "id": "bbe2e2de-0aed-43db-94a0-9163c43e179e",
   "metadata": {},
   "source": [
    "# Introduction à Dask"
   ]
  },
  {
   "cell_type": "markdown",
   "id": "b35ef924-29d5-4517-a850-935dfdf19c1e",
   "metadata": {},
   "source": [
    "Dask est une bibliothèque de calcul parallèle flexible pour le calcul analytique. <br>\n",
    "Dask fournit un ordonnancement dynamique des tâches parallèles et des\n",
    "collections de données volumineuses de haut niveau comme dask.array et\n",
    "dask.dataframe. Pour en savoir plus sur Dask, voir :\n",
    "- La documentation : https://docs.dask.org/en/latest/ (https://docs.dask.org/en/latest/) <br>\n",
    "- [La présentation de Dask](https://docs.google.com/presentation/d/e/2PACX-1vSTH2kAR0DCR0nw8pFBe5kuYbOk3inZ9cQfZbzOIRjyzQoVaOoMfI2JONGBz-qsvG_P6g050ddHxSXT/pub?start=false&loop=false&delayms=60000#slide=id.p) <br>\n",
    "\n",
    "Note: Des parties de ce notebook proviennent des sources suivantes : <br>\n",
    "- https://github.com/rabernat/research_computing (https://github.com/rabernat/research_computing)\n",
    "- https://github.com/dask/dask-examples (https://github.com/dask/dask-examples)"
   ]
  },
  {
   "cell_type": "markdown",
   "id": "ccb3e716-733a-4ba9-9a24-8667f015b152",
   "metadata": {},
   "source": [
    "## Démarrer un cluster distribué Dask et un client pour le tableau de bord\n",
    "Le démarrage du Cluster/Client Dask est généralement facultatif.\n",
    "Il fournit un tableau de bord qui est utile pour avoir un aperçu du calcul.\n",
    "L'utilisation de dask_jobqueue permet également d'obtenir une plus grande puissance de calcul en mettant à\n",
    "l'échelle Dask sur plusieurs noeuds du HPC.\n",
    "Le lien vers le tableau de bord sera visible lorsque vous créerez le cluster ou le client ci-dessous. Comme dasklabextension (https://github.com/dask/dask-labextension) est intégré dans l'environnement actuel, il peut être\n",
    "suffisant pour surveiller les tâches Dask (voir les fenêtres Task Stream et Progress sur la droite). Sinon, nous\n",
    "vous recommandons d'avoir le tableau de bord ouvert d'un côté de votre écran tout en utilisant votre ordinateur\n",
    "portable de l'autre côté. Cela peut demander un certain effort pour arranger vos fenêtres, mais les voir toutes\n",
    "les deux en même temps est très utile pour apprendre."
   ]
  },
  {
   "cell_type": "markdown",
   "id": "059e1fde-b894-41df-87bb-862be3afede9",
   "metadata": {},
   "source": [
    "## Création du cluster local"
   ]
  },
  {
   "cell_type": "code",
   "execution_count": null,
   "id": "ac9b3244-e371-4b4c-b0ad-7f71be439931",
   "metadata": {},
   "outputs": [],
   "source": [
    "!pip install dask[distributed]\n",
    "!pip install graphviz"
   ]
  },
  {
   "cell_type": "code",
   "execution_count": null,
   "id": "daa6d942-f5bd-4721-b3f7-a533be8d2aa9",
   "metadata": {},
   "outputs": [],
   "source": [
    "import dask.distributed\n",
    "\n",
    "cluster = dask.distributed.LocalCluster()"
   ]
  },
  {
   "cell_type": "markdown",
   "id": "eb35e774-5949-4a80-a295-0e8c2515f498",
   "metadata": {},
   "source": [
    "Connexion d'un client au cluster:"
   ]
  },
  {
   "cell_type": "code",
   "execution_count": null,
   "id": "1d9584ed-8b19-4a8f-b204-953e843ce7c9",
   "metadata": {},
   "outputs": [],
   "source": [
    "import dask.distributed\n",
    "\n",
    "client = dask.distributed.Client(cluster)\n",
    "client"
   ]
  },
  {
   "cell_type": "markdown",
   "id": "c3e535ce-c985-44bf-a9f2-5b387b43a1b9",
   "metadata": {},
   "source": [
    "## Dask Arrays\n",
    "Un tableau dask ressemble beaucoup à un tableau numpy. Cependant, un tableau dask ne contient pas\n",
    "directement de données. Il représente plutôt symboliquement les calculs nécessaires pour générer les\n",
    "données. Rien n'est réellement calculé tant que les valeurs numériques réelles ne sont pas nécessaires. Ce\n",
    "mode de fonctionnement est appelé \"paresseux\" ; il permet d'effectuer des calculs complexes et volumineux de\n",
    "manière symbolique avant de les transférer au programmateur pour exécution.\n",
    "Si nous voulons créer un tableau numérique de tous les calculs, nous le faisons comme ceci :"
   ]
  },
  {
   "cell_type": "code",
   "execution_count": null,
   "id": "e1f269bf-f406-43b4-a5a4-8b50670368d7",
   "metadata": {},
   "outputs": [],
   "source": [
    "import numpy as np\n",
    "\n",
    "shape = (1000, 4000)\n",
    "ones_np = np.ones(shape)\n",
    "ones_np"
   ]
  },
  {
   "cell_type": "markdown",
   "id": "105a2cae-8b0b-4ffb-aaa5-a8148c6247e3",
   "metadata": {},
   "source": [
    "Ce tableau contient exactement 32 Mo de données :"
   ]
  },
  {
   "cell_type": "code",
   "execution_count": null,
   "id": "5a28dcc7-80af-40aa-b632-db71d30b707e",
   "metadata": {},
   "outputs": [],
   "source": [
    "print(\"%.1f Mo\" % (ones_np.nbytes / 1e6))"
   ]
  },
  {
   "cell_type": "markdown",
   "id": "43a5e6d6-30d6-4dac-a4c5-f4174d063fda",
   "metadata": {},
   "source": [
    "Maintenant, créons le même tableau en utilisant l'interface de tableau de dask"
   ]
  },
  {
   "cell_type": "code",
   "execution_count": null,
   "id": "9e4811f8-86b5-469a-abb8-f22ea8e13a10",
   "metadata": {},
   "outputs": [],
   "source": [
    "import dask.array as da\n",
    "\n",
    "ones = da.ones(shape)\n",
    "ones"
   ]
  },
  {
   "cell_type": "markdown",
   "id": "8c678fa0-5ddb-43c6-abc3-c0a165f98ba2",
   "metadata": {},
   "source": [
    "Cela fonctionne, mais nous n'avons pas dit à Dask comment diviser le tableau, il n'est donc pas optimisé pour\n",
    "le calcul distribué.\n",
    "Une différence essentielle avec dask est que nous devons spécifier l'argument chunks. Chunks décrit\n",
    "comment le tableau est réparti sur plusieurs sous-tableaux."
   ]
  },
  {
   "cell_type": "code",
   "execution_count": null,
   "id": "3c6061e5-a5b1-4662-a7f8-c60f6ad88bd8",
   "metadata": {},
   "outputs": [],
   "source": [
    "chunk_shape = (1000, 1000)\n",
    "ones = da.ones(shape, chunks=chunk_shape)\n",
    "ones"
   ]
  },
  {
   "cell_type": "markdown",
   "id": "c8f14ce1-40ac-4e46-9402-8e6334ac0aaa",
   "metadata": {},
   "source": [
    "Remarquez que nous ne voyons qu'une représentation symbolique de l'ensemble, y compris sa forme, son type\n",
    "et sa taille. Aucune donnée n'a encore été générée. Lorsque nous appelons .compute() sur un tableau Dask,\n",
    "le calcul est déclenché et le tableau Dask devient un tableau numpy."
   ]
  },
  {
   "cell_type": "code",
   "execution_count": null,
   "id": "c5b4fd24-ff89-435a-b781-cc48d8708f97",
   "metadata": {},
   "outputs": [],
   "source": [
    "ones.compute()"
   ]
  },
  {
   "cell_type": "markdown",
   "id": "eee6450c-e780-4133-b2e7-2af556b88f15",
   "metadata": {},
   "source": [
    "Afin de comprendre ce qui s'est passé lorsque nous avons appelé .compute() , nous pouvons visualiser le\n",
    "graphe Dask, c'est-à-dire les opérations symboliques qui composent le tableau."
   ]
  },
  {
   "cell_type": "code",
   "execution_count": null,
   "id": "2520ffa8-6ccb-4f5d-95b4-33719ba91919",
   "metadata": {},
   "outputs": [],
   "source": [
    "ones.visualize()"
   ]
  },
  {
   "cell_type": "markdown",
   "id": "7d3f588e-01ee-4fea-a598-ff9c3127a929",
   "metadata": {},
   "source": [
    "Notre tableau comporte 4 morceaux. Pour le générer, dask appelle 4 fois np.ones et les concatène ensuite\n",
    "en un tableau. Plutôt que de charger immédiatement un tableau Dask (qui met toutes les données dans la RAM), il est plus\n",
    "courant de réduire les données d'une manière ou d'une autre. Par exemple :"
   ]
  },
  {
   "cell_type": "code",
   "execution_count": null,
   "id": "e1ee78cc-f128-4669-a40b-13ce10b79ff9",
   "metadata": {},
   "outputs": [],
   "source": [
    "sum_of_ones = ones.sum()\n",
    "sum_of_ones.visualize()"
   ]
  },
  {
   "cell_type": "markdown",
   "id": "55ce99f0-d90a-4bc4-a258-0017ff183c5d",
   "metadata": {},
   "source": [
    "Nous voyons ici la stratégie de Dask pour trouver la somme. Cet exemple simple illustre la beauté de dask : il\n",
    "conçoit automatiquement un algorithme approprié pour les opérations personnalisées avec de grosses\n",
    "données."
   ]
  },
  {
   "cell_type": "markdown",
   "id": "a1b1b41d-2593-42f6-873e-734426cf4e00",
   "metadata": {},
   "source": [
    "## Un calcul plus grand\n",
    "Les exemples ci-dessus étaient de petits exemples ; les données (32 Mo) sont loin d'être assez volumineuses\n",
    "pour justifier l'utilisation de dask.\n",
    "Changeons d’échelle !"
   ]
  },
  {
   "cell_type": "code",
   "execution_count": null,
   "id": "c95cb4cb-2e9d-4518-b41f-caa71fcb55c9",
   "metadata": {},
   "outputs": [],
   "source": [
    "bigshape = (200000, 4000)\n",
    "big_ones = da.ones(bigshape, chunks=chunk_shape)\n",
    "big_ones"
   ]
  },
  {
   "cell_type": "markdown",
   "id": "ba33877b-afc6-469a-baa2-2e939b24bf29",
   "metadata": {},
   "source": [
    "Cet ensemble de données est de 6,4 Go, au lieu de 32 Mo ! C'est probablement proche ou supérieur à la\n",
    "quantité de mémoire vive disponible que vous avez dans votre ordinateur. Néanmoins, Dask n'a aucun\n",
    "problème pour travailler dessus. N'essayez pas d'appeler la méthode .visualize() sur ce tableau !\n",
    "Lorsqu'il fait un gros calcul, dask a aussi quelques outils pour nous aider à comprendre ce qui se passe sous le\n",
    "capot. Regardons à nouveau le tableau de bord pendant que nous faisons un gros calcul."
   ]
  },
  {
   "cell_type": "code",
   "execution_count": null,
   "id": "f8c9e50e-1ee4-48c0-87c0-d5586b692707",
   "metadata": {},
   "outputs": [],
   "source": [
    "big_calc = (big_ones * big_ones[::-1, ::-1]).mean()\n",
    "result = big_calc.compute()\n",
    "result"
   ]
  },
  {
   "cell_type": "markdown",
   "id": "b5a43664-e750-4a76-8f01-4ebb7982597c",
   "metadata": {},
   "source": [
    "## Réduction\n",
    "Toutes les méthodes habituelles numpy fonctionnent sur des tableaux de dask. Vous pouvez également\n",
    "appliquer la fonction numpy directement à un dask array, et il restera paresseux."
   ]
  },
  {
   "cell_type": "code",
   "execution_count": null,
   "id": "6bdd087a-79ef-4ce1-a2f9-4f3e5063429e",
   "metadata": {},
   "outputs": [],
   "source": [
    "big_ones_reduce = (np.cos(big_ones) ** 2).mean(axis=1)\n",
    "big_ones_reduce"
   ]
  },
  {
   "cell_type": "markdown",
   "id": "3c8dcc72-676b-425d-a690-8a6d27c17999",
   "metadata": {},
   "source": [
    "Le tracé déclenche également le calcul, car nous avons besoin des valeurs réelles"
   ]
  },
  {
   "cell_type": "code",
   "execution_count": null,
   "id": "6234e5c5-f496-40db-9339-a28a4710e92c",
   "metadata": {},
   "outputs": [],
   "source": [
    "import matplotlib.pyplot as plt\n",
    "\n",
    "%matplotlib inline\n",
    "plt.rcParams[\"figure.figsize\"] = (12, 8)\n",
    "plt.plot(big_ones_reduce)"
   ]
  },
  {
   "cell_type": "markdown",
   "id": "5033fa70-f5a4-4681-a953-edff4eda7831",
   "metadata": {},
   "source": [
    "## Dask.delayed\n",
    "dask.delayed est un moyen simple et puissant de paralléliser le code existant. Il permet aux utilisateurs de\n",
    "retarder les appels de fonctions dans un graphe de tâches avec des dépendances. Dask.delayed ne fournit\n",
    "pas d'algorithmes parallèles sophistiqués comme dask.dataframe , mais il donne à l'utilisateur un contrôle\n",
    "complet sur ce qu'il veut construire.\n",
    "Les systèmes comme dask.dataframe sont construits avec des objets dask.delayed. Si vous avez un\n",
    "problème qui est parallélisable, mais qui n'est pas aussi simple qu'un grand tableau ou une grande trame de\n",
    "données, alors dask.delayed peut être le bon choix."
   ]
  },
  {
   "cell_type": "markdown",
   "id": "6bc2f6b9-4a93-434e-95ed-a429fe859e16",
   "metadata": {},
   "source": [
    "## Créer des fonctions simples"
   ]
  },
  {
   "cell_type": "markdown",
   "id": "b35147b7-ebac-4e10-a147-70e576ec5ecf",
   "metadata": {},
   "source": [
    "Ces fonctions effectuent des opérations simples comme l'addition de deux nombres, mais elles dorment\n",
    "pendant un temps aléatoire pour simuler un travail réel."
   ]
  },
  {
   "cell_type": "code",
   "execution_count": null,
   "id": "7d67b31a-1edf-450b-9b9b-e80caef92606",
   "metadata": {},
   "outputs": [],
   "source": [
    "import time\n",
    "\n",
    "\n",
    "def inc(x):\n",
    "    time.sleep(0.1)\n",
    "    return x + 1\n",
    "\n",
    "\n",
    "def dec(x):\n",
    "    time.sleep(0.1)\n",
    "    return x - 1\n",
    "\n",
    "\n",
    "def add(x, y):\n",
    "    time.sleep(0.2)\n",
    "    return x + y"
   ]
  },
  {
   "cell_type": "markdown",
   "id": "ca9b8828-853c-4aec-80ba-d9a40115d1af",
   "metadata": {},
   "source": [
    "Réalisons un petit algorithme à l’aide des fonctions ci-dessus."
   ]
  },
  {
   "cell_type": "code",
   "execution_count": null,
   "id": "4a5db436-bf29-4f69-92b7-80c4efbd0563",
   "metadata": {},
   "outputs": [],
   "source": [
    "%%time\n",
    "x = inc(1)\n",
    "y = dec(2)\n",
    "z = add(x, y)\n",
    "z"
   ]
  },
  {
   "cell_type": "markdown",
   "id": "846cf029-63b2-4fcb-83e1-66e32028dc1b",
   "metadata": {},
   "source": [
    "Les appels se sont succédés les uns après les autres, dans l'ordre. Notez cependant que les deux premières\n",
    "lignes inc(1) et dec(2) ne dépendent pas l'une de l'autre, nous aurions pu les appeler en parallèle si nous\n",
    "avions été intelligents."
   ]
  },
  {
   "cell_type": "markdown",
   "id": "8d6eca0c-2af0-4ff2-a309-99018b03e195",
   "metadata": {},
   "source": [
    "## Annoter les fonctions avec dask.delayed pour les rendre paresseuses\n",
    "Nous pouvons appeler dask.delayed pour rendr nos fonctions paresseuses. Plutôt que de calculer leurs\n",
    "résultats immédiatement, ils enregistrent ce que nous voulons calculer dans un graphe que nous exécuterons\n",
    "plus tard en parallèle."
   ]
  },
  {
   "cell_type": "code",
   "execution_count": null,
   "id": "56042402-9426-411f-8827-e025d7f4646c",
   "metadata": {},
   "outputs": [],
   "source": [
    "import dask\n",
    "\n",
    "inc = dask.delayed(inc)\n",
    "dec = dask.delayed(dec)\n",
    "add = dask.delayed(add)"
   ]
  },
  {
   "cell_type": "markdown",
   "id": "15b09103-b12a-459b-a015-fd3ddaa6c084",
   "metadata": {},
   "source": [
    "L'appel de ces fonctions paresseuses est désormais presque gratuit. Nous construisons juste un graphe"
   ]
  },
  {
   "cell_type": "code",
   "execution_count": null,
   "id": "454733a9-6926-4808-9bbc-20c596ad03cc",
   "metadata": {},
   "outputs": [],
   "source": [
    "%%time\n",
    "x = inc(1)\n",
    "y = dec(2)\n",
    "z = add(x, y)\n",
    "z"
   ]
  },
  {
   "cell_type": "markdown",
   "id": "c985d598-b03e-43f1-a5ad-c22a68dfbca5",
   "metadata": {},
   "source": [
    "## Graphe de calcul"
   ]
  },
  {
   "cell_type": "code",
   "execution_count": null,
   "id": "a8d9cb67-58ad-4649-8ce7-60f46632cef0",
   "metadata": {},
   "outputs": [],
   "source": [
    "z.visualize(rankdir=\"LR\")"
   ]
  },
  {
   "cell_type": "markdown",
   "id": "e579f342-9cca-4cd1-b945-240fbb6e4de7",
   "metadata": {},
   "source": [
    "## Calcul en parallèle\n",
    "Appelez .compute() quand vous voulez que votre résultat soit un objet Python normal\n",
    "Si vous avez démarré Client() ci-dessus, vous pouvez regarder la progression du calcul dans le tableau de\n",
    "bord."
   ]
  },
  {
   "cell_type": "code",
   "execution_count": null,
   "id": "eac9add1-0b9d-4e12-9d6d-e928efa7bf62",
   "metadata": {},
   "outputs": [],
   "source": [
    "%%time\n",
    "z.compute()"
   ]
  },
  {
   "cell_type": "markdown",
   "id": "0860f9ae-5e76-4909-a4ab-47fb204f4ef4",
   "metadata": {},
   "source": [
    "## Pour en savoir plus\n",
    "\n",
    "https://tutorial.dask.org/"
   ]
  },
  {
   "cell_type": "code",
   "execution_count": null,
   "id": "2f330da9-752d-4f81-a141-265d1e876534",
   "metadata": {},
   "outputs": [],
   "source": []
  }
 ],
 "metadata": {
  "environment": {
   "kernel": "python3",
   "name": "pytorch-gpu.1-10.m87",
   "type": "gcloud",
   "uri": "gcr.io/deeplearning-platform-release/pytorch-gpu.1-10:m87"
  },
  "kernelspec": {
   "display_name": "Python 3 (ipykernel)",
   "language": "python",
   "name": "python3"
  },
  "language_info": {
   "codemirror_mode": {
    "name": "ipython",
    "version": 3
   },
   "file_extension": ".py",
   "mimetype": "text/x-python",
   "name": "python",
   "nbconvert_exporter": "python",
   "pygments_lexer": "ipython3",
   "version": "3.8.12"
  }
 },
 "nbformat": 4,
 "nbformat_minor": 5
}
