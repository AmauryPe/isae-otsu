{
 "cells": [
  {
   "cell_type": "markdown",
   "metadata": {},
   "source": [
    "Création d'un cluster local"
   ]
  },
  {
   "cell_type": "code",
   "execution_count": null,
   "metadata": {},
   "outputs": [],
   "source": [
    "import dask.distributed\n",
    "\n",
    "cluster = dask.distributed.LocalCluster()"
   ]
  },
  {
   "cell_type": "markdown",
   "metadata": {},
   "source": [
    "Connexion d'un client au cluster"
   ]
  },
  {
   "cell_type": "code",
   "execution_count": null,
   "metadata": {},
   "outputs": [],
   "source": [
    "import dask.distributed\n",
    "\n",
    "client = dask.distributed.Client(cluster)\n",
    "client"
   ]
  },
  {
   "cell_type": "markdown",
   "metadata": {},
   "source": [
    "# 1 - Image processing with Dask"
   ]
  },
  {
   "cell_type": "markdown",
   "metadata": {},
   "source": [
    "First some imports"
   ]
  },
  {
   "cell_type": "code",
   "execution_count": null,
   "metadata": {},
   "outputs": [],
   "source": [
    "import dask.array as da\n",
    "import dask_image.imread\n",
    "import dask_image.ndfilters\n",
    "import dask_image.ndmeasure"
   ]
  },
  {
   "cell_type": "markdown",
   "metadata": {},
   "source": [
    "We'll also use matplotlib to display image results in this notebook"
   ]
  },
  {
   "cell_type": "code",
   "execution_count": null,
   "metadata": {},
   "outputs": [],
   "source": [
    "import matplotlib.pyplot as plt\n",
    "\n",
    "%matplotlib inline"
   ]
  },
  {
   "cell_type": "markdown",
   "metadata": {},
   "source": [
    "## Getting the example data"
   ]
  },
  {
   "cell_type": "markdown",
   "metadata": {},
   "source": [
    "We'll use some example image data from the scikit-image library in this tutorial. These images are very small, but will allow us to demonstrate the functionality of dask-image. <br>\n",
    "Let's download and save a public domain image of the astronaut Eileen Collins to a temporary directory. This image was originally downloaded from the NASA Great Images database https://flic.kr/p/r9qvLn, but we'll access it with scikit-image's data.astronaut() method."
   ]
  },
  {
   "cell_type": "code",
   "execution_count": null,
   "metadata": {},
   "outputs": [],
   "source": [
    "!mkdir -p temp"
   ]
  },
  {
   "cell_type": "code",
   "execution_count": null,
   "metadata": {},
   "outputs": [],
   "source": [
    "import os\n",
    "\n",
    "from skimage import data, io\n",
    "\n",
    "output_filename = os.path.join(\"temp\", \"astronaut.png\")\n",
    "io.imsave(output_filename, data.astronaut())"
   ]
  },
  {
   "cell_type": "markdown",
   "metadata": {},
   "source": [
    "Really large datasets often can't fit all of the data into a single file, so we'll chop this image into four parts and save the image tiles to a second temporary directory. This will give you a better idea of how you can use dask-image on a real dataset."
   ]
  },
  {
   "cell_type": "code",
   "execution_count": null,
   "metadata": {},
   "outputs": [],
   "source": [
    "!mkdir -p temp-tiles"
   ]
  },
  {
   "cell_type": "code",
   "execution_count": null,
   "metadata": {},
   "outputs": [],
   "source": [
    "io.imsave(\n",
    "    os.path.join(\"temp-tiles\", \"image-00.png\"), data.astronaut()[:256, :256, :]\n",
    ")  # top left\n",
    "io.imsave(\n",
    "    os.path.join(\"temp-tiles\", \"image-01.png\"), data.astronaut()[:256, 256:, :]\n",
    ")  # top right\n",
    "io.imsave(\n",
    "    os.path.join(\"temp-tiles\", \"image-10.png\"), data.astronaut()[256:, :256, :]\n",
    ")  # bottom left\n",
    "io.imsave(\n",
    "    os.path.join(\"temp-tiles\", \"image-11.png\"), data.astronaut()[256:, 256:, :]\n",
    ")  # bottom right"
   ]
  },
  {
   "cell_type": "markdown",
   "metadata": {},
   "source": [
    "Now we have some data saved, let's practise reading in files with dask-image and processing our images."
   ]
  },
  {
   "cell_type": "markdown",
   "metadata": {},
   "source": [
    "## Reading in image data"
   ]
  },
  {
   "cell_type": "markdown",
   "metadata": {},
   "source": [
    "Reading a single image. <br>\n",
    "Let's load a public domain image of the astronaut Eileen Collins with dask-image imread(). This image was originally downloaded from the NASA Great Images database https://flic.kr/p/r9qvLn."
   ]
  },
  {
   "cell_type": "code",
   "execution_count": null,
   "metadata": {},
   "outputs": [],
   "source": [
    "import os\n",
    "\n",
    "filename = os.path.join(\"temp\", \"astronaut.png\")\n",
    "print(filename)"
   ]
  },
  {
   "cell_type": "code",
   "execution_count": null,
   "metadata": {},
   "outputs": [],
   "source": [
    "astronaut = dask_image.imread.imread(filename)\n",
    "astronaut"
   ]
  },
  {
   "cell_type": "code",
   "execution_count": null,
   "metadata": {},
   "outputs": [],
   "source": [
    "plt.imshow(astronaut[0, ...])  # display the first (and only) frame of the image"
   ]
  },
  {
   "cell_type": "markdown",
   "metadata": {},
   "source": [
    "This has created a dask array with shape=(1, 512, 512, 3). This means it contains one image frame with 512 rows, 512 columns, and 3 color channels.\n",
    "Since the image is relatively small, it fits entirely within one dask-image chunk, with chunksize=(1, 512, 512, 3)."
   ]
  },
  {
   "cell_type": "markdown",
   "metadata": {},
   "source": [
    "## Reading multiple images"
   ]
  },
  {
   "cell_type": "markdown",
   "metadata": {},
   "source": [
    "In many cases, you may have multiple images stored on disk, for example: image_00.png, image_01.png, ... image_NN.png. These can be read into a dask array as multiple image frames. <br>\n",
    "\n",
    "Here we have the astronaut image split into four non-overlapping tiles: <br>\n",
    "\n",
    "- image_00.png = top left image (index 0,0)\n",
    "- image_01.png = top right image (index 0,1)\n",
    "- image_10.png = bottom left image (index 1,0)\n",
    "- image_11.png = bottom right image (index 1,1)\n",
    "\n",
    "This filename pattern can be matched with regex: image-*.png"
   ]
  },
  {
   "cell_type": "code",
   "execution_count": null,
   "metadata": {},
   "outputs": [],
   "source": [
    "!ls temp-tiles"
   ]
  },
  {
   "cell_type": "code",
   "execution_count": null,
   "metadata": {},
   "outputs": [],
   "source": [
    "import os\n",
    "\n",
    "filename_pattern = os.path.join(\"temp-tiles\", \"image-*.png\")\n",
    "tiled_astronaut_images = dask_image.imread.imread(filename_pattern)\n",
    "tiled_astronaut_images"
   ]
  },
  {
   "cell_type": "markdown",
   "metadata": {},
   "source": [
    "This has created a dask array with shape=(4, 256, 256, 3). This means it contains four image frames; each with 256 rows, 256 columns, and 3 color channels.\n",
    "There are four chunks in this particular case. Each image frame here is a separate chunk with chunksize=(1, 256, 256, 3)."
   ]
  },
  {
   "cell_type": "code",
   "execution_count": null,
   "metadata": {},
   "outputs": [],
   "source": [
    "fig, ax = plt.subplots(nrows=2, ncols=2)\n",
    "ax[0, 0].imshow(tiled_astronaut_images[0])\n",
    "ax[0, 1].imshow(tiled_astronaut_images[1])\n",
    "ax[1, 0].imshow(tiled_astronaut_images[2])\n",
    "ax[1, 1].imshow(tiled_astronaut_images[3])\n",
    "plt.show()"
   ]
  },
  {
   "cell_type": "markdown",
   "metadata": {},
   "source": [
    "## Applying your own custom function to images"
   ]
  },
  {
   "cell_type": "markdown",
   "metadata": {},
   "source": [
    "Next you'll want to do some image processing, and apply a function to your images. <br>\n",
    "\n",
    "We'll use a very simple example: converting an RGB image to grayscale. But you can also use this method to apply arbittrary functions to dask images. To convert our image to grayscale, we'll use the equation to calculate luminance: <br>\n",
    "\n",
    "> - Y = 0.2125 R + 0.7154 G + 0.0721 B\n",
    "\n",
    "We'll write the function for this equation as follows **exercice : write the function**"
   ]
  },
  {
   "cell_type": "code",
   "execution_count": null,
   "metadata": {},
   "outputs": [],
   "source": [
    "def grayscale(rgb):\n",
    "    result = ...  # TODO\n",
    "    return result"
   ]
  },
  {
   "cell_type": "markdown",
   "metadata": {},
   "source": [
    "**Solution 1** at the end"
   ]
  },
  {
   "cell_type": "markdown",
   "metadata": {},
   "source": [
    "Let's apply this function to the astronaut image we read in as a single file and visualize the computation graph.\n",
    "\n",
    "(Visualizing the computation graph isn't necessary most of the time but it's helpful to know what dask is doing under the hood, and it can also be very useful for debugging problems.)"
   ]
  },
  {
   "cell_type": "code",
   "execution_count": null,
   "metadata": {},
   "outputs": [],
   "source": [
    "single_image_result = grayscale(astronaut)\n",
    "single_image_result"
   ]
  },
  {
   "cell_type": "code",
   "execution_count": null,
   "metadata": {},
   "outputs": [],
   "source": [
    "single_image_result.visualize()"
   ]
  },
  {
   "cell_type": "markdown",
   "metadata": {},
   "source": [
    "We also see that there are no longer three color channels in the shape of the result, and that the output image is as expected."
   ]
  },
  {
   "cell_type": "code",
   "execution_count": null,
   "metadata": {},
   "outputs": [],
   "source": [
    "print(\"Original image dimensions: \", astronaut.shape)\n",
    "print(\"Processed image dimensions:\", single_image_result.shape)\n",
    "\n",
    "fig, (ax0, ax1) = plt.subplots(nrows=1, ncols=2)\n",
    "ax0.imshow(astronaut[0, ...])  # display the first (and only) frame of the image\n",
    "ax1.imshow(\n",
    "    single_image_result[0, ...], cmap=\"gray\"\n",
    ")  # display the first (and only) frame of the image\n",
    "\n",
    "# Subplot headings\n",
    "ax0.set_title(\"Original image\")\n",
    "ax1.set_title(\"Processed image\")\n",
    "\n",
    "# Don't display axes\n",
    "ax0.axis(\"off\")\n",
    "ax1.axis(\"off\")\n",
    "\n",
    "# Display images\n",
    "plt.show(fig)"
   ]
  },
  {
   "cell_type": "markdown",
   "metadata": {},
   "source": [
    "## Embarrassingly parallel problems"
   ]
  },
  {
   "cell_type": "markdown",
   "metadata": {},
   "source": [
    "The syntax is identical to apply a function to multiple images or dask chunks. This is an example of an embarrassingly parallel problem, and we see that dask automatically creates a computation graph for each chunk."
   ]
  },
  {
   "cell_type": "code",
   "execution_count": null,
   "metadata": {},
   "outputs": [],
   "source": [
    "result = ...  # TODO"
   ]
  },
  {
   "cell_type": "markdown",
   "metadata": {},
   "source": [
    "**Solution 2** at the end"
   ]
  },
  {
   "cell_type": "code",
   "execution_count": null,
   "metadata": {},
   "outputs": [],
   "source": [
    "result.visualize()"
   ]
  },
  {
   "cell_type": "markdown",
   "metadata": {},
   "source": [
    "Let's take a look at the results."
   ]
  },
  {
   "cell_type": "code",
   "execution_count": null,
   "metadata": {},
   "outputs": [],
   "source": [
    "fig, ((ax0, ax1), (ax2, ax3)) = plt.subplots(nrows=2, ncols=2)\n",
    "ax0.imshow(result[0, ...], cmap=\"gray\")\n",
    "ax1.imshow(result[1, ...], cmap=\"gray\")\n",
    "ax2.imshow(result[2, ...], cmap=\"gray\")\n",
    "ax3.imshow(result[3, ...], cmap=\"gray\")\n",
    "\n",
    "# Subplot headings\n",
    "ax0.set_title(\"First chunk\")\n",
    "ax1.set_title(\"Second chunk\")\n",
    "ax2.set_title(\"Thurd chunk\")\n",
    "ax3.set_title(\"Fourth chunk\")\n",
    "\n",
    "# Don't display axes\n",
    "ax0.axis(\"off\")\n",
    "ax1.axis(\"off\")\n",
    "ax2.axis(\"off\")\n",
    "ax3.axis(\"off\")\n",
    "\n",
    "# Display images\n",
    "plt.show(fig)"
   ]
  },
  {
   "cell_type": "markdown",
   "metadata": {},
   "source": [
    "## Joining partial images together"
   ]
  },
  {
   "cell_type": "markdown",
   "metadata": {},
   "source": [
    "OK, Things are looking pretty good! But how can we join these image chunks together?\n",
    "\n",
    "So far, we haven't needed any information from neighboring pixels to do our calculations. But there are lots of functions (like those in dask-image ndfilters) that do need this for accurate results. You could end up with unwanted edge effects if you don't tell dask how your images should be joined.\n",
    "\n",
    "Dask has several ways to join chunks together: Stack, Concatenate, and Block.\n",
    "\n",
    "Block is very versatile, so we'll use that in this next example. You simply pass in a list (or list of lists) to tell dask the spatial relationship between image chunks."
   ]
  },
  {
   "cell_type": "code",
   "execution_count": null,
   "metadata": {},
   "outputs": [],
   "source": [
    "data = [[result[0, ...], result[1, ...]], [result[2, ...], result[3, ...]]]\n",
    "combined_image = da.block(data)\n",
    "combined_image.shape"
   ]
  },
  {
   "cell_type": "code",
   "execution_count": null,
   "metadata": {},
   "outputs": [],
   "source": [
    "combined_image"
   ]
  },
  {
   "cell_type": "code",
   "execution_count": null,
   "metadata": {},
   "outputs": [],
   "source": [
    "plt.imshow(combined_image, cmap=\"gray\")\n",
    "plt.show()"
   ]
  },
  {
   "cell_type": "markdown",
   "metadata": {},
   "source": [
    "## A segmentation analysis pipeline"
   ]
  },
  {
   "cell_type": "markdown",
   "metadata": {},
   "source": [
    "We'll walk through a simple image segmentation and analysis pipeline with three steps:\n",
    "\n",
    "1. Filtering\n",
    "2. Segmenting\n",
    "3. Analyzing"
   ]
  },
  {
   "cell_type": "markdown",
   "metadata": {},
   "source": [
    "## Filtering\n",
    "Most analysis pipelines require some degree of image preprocessing. dask-image has a number of inbuilt filters available via dask-image ndfilters.\n",
    "\n",
    "Commonly a guassian filter may used to smooth the image before segmentation. This causes some loss of sharpness in the image, but can improve segmentation quality for methods that rely on image thresholding."
   ]
  },
  {
   "cell_type": "code",
   "execution_count": null,
   "metadata": {},
   "outputs": [],
   "source": [
    "smoothed_image = (\n",
    "    ...\n",
    ")  # TODO apply gaussian filter from dask_image.ndfilters with unit variance"
   ]
  },
  {
   "cell_type": "markdown",
   "metadata": {},
   "source": [
    "**solution 3 at the end**"
   ]
  },
  {
   "cell_type": "markdown",
   "metadata": {},
   "source": [
    "We see a small amount of blur in the smoothed image."
   ]
  },
  {
   "cell_type": "code",
   "execution_count": null,
   "metadata": {},
   "outputs": [],
   "source": [
    "fig, (ax0, ax1) = plt.subplots(nrows=1, ncols=2)\n",
    "ax0.imshow(smoothed_image, cmap=\"gray\")\n",
    "ax1.imshow(smoothed_image - combined_image, cmap=\"gray\")\n",
    "\n",
    "# Subplot headings\n",
    "ax0.set_title(\"Smoothed image\")\n",
    "ax1.set_title(\"Difference from original\")\n",
    "\n",
    "# Don't display axes\n",
    "ax0.axis(\"off\")\n",
    "ax1.axis(\"off\")\n",
    "\n",
    "# Display images\n",
    "plt.show(fig)"
   ]
  },
  {
   "cell_type": "markdown",
   "metadata": {},
   "source": [
    "Since the gaussian filter uses information from neighbouring pixels, the computational graph looks more complicated than the ones we looked at earlier. This is no longer embarrassingly parallel. Where possible dask keeps the computations for each of the four image chunks separate, but must combine information from different chunks near the edges."
   ]
  },
  {
   "cell_type": "code",
   "execution_count": null,
   "metadata": {},
   "outputs": [],
   "source": [
    "smoothed_image.visualize()"
   ]
  },
  {
   "cell_type": "markdown",
   "metadata": {},
   "source": [
    "## Segmenting\n",
    "After the image preprocessing, we segment regions of interest from the data. We'll use a simple arbitrary threshold as the cutoff, at 75% of the maximum intensity of the smoothed image."
   ]
  },
  {
   "cell_type": "code",
   "execution_count": null,
   "metadata": {},
   "outputs": [],
   "source": [
    "threshold_value = 0.75 * da.max(smoothed_image).compute()\n",
    "print(threshold_value)"
   ]
  },
  {
   "cell_type": "code",
   "execution_count": null,
   "metadata": {},
   "outputs": [],
   "source": [
    "threshold_image = smoothed_image > threshold_value\n",
    "plt.imshow(threshold_image, cmap=\"gray\")"
   ]
  },
  {
   "cell_type": "markdown",
   "metadata": {},
   "source": [
    "Next, we label each region of connected pixels above the threshold value. For this we use the label function from dask-image ndmeasure. This will return both the label image, and the number of labels."
   ]
  },
  {
   "cell_type": "code",
   "execution_count": null,
   "metadata": {},
   "outputs": [],
   "source": [
    "label_image, num_labels = ...  # TODO"
   ]
  },
  {
   "cell_type": "markdown",
   "metadata": {},
   "source": [
    "**Solution 4** at the end"
   ]
  },
  {
   "cell_type": "code",
   "execution_count": null,
   "metadata": {},
   "outputs": [],
   "source": [
    "print(\"Number of labels:\", int(num_labels))  # You have to find 78 labels\n",
    "plt.imshow(label_image, cmap=\"viridis\")\n",
    "plt.show()"
   ]
  },
  {
   "cell_type": "markdown",
   "metadata": {},
   "source": [
    "# 2 - Reading and manipulating tiled GeoTIFF datasets\n",
    "\n",
    "This notebook shows how to perform simple calculations with a GeoTIFF dataset using XArray and Dask. \n",
    "\n",
    "We load and rescale a time series of Pléiades HR images and compute NDVI (Normalized difference vegetation index). This can be used to distinguish green vegetation from areas of bare land or water.\n",
    "\n",
    "We'll use a timeseries from Toulouse"
   ]
  },
  {
   "cell_type": "code",
   "execution_count": null,
   "metadata": {},
   "outputs": [],
   "source": [
    "import json\n",
    "import os\n",
    "from pathlib import Path\n",
    "\n",
    "import matplotlib.pyplot as plt\n",
    "import rasterio\n",
    "import requests\n",
    "\n",
    "%matplotlib inline"
   ]
  },
  {
   "cell_type": "markdown",
   "metadata": {},
   "source": [
    "## Download data"
   ]
  },
  {
   "cell_type": "code",
   "execution_count": null,
   "metadata": {},
   "outputs": [],
   "source": [
    "image_urls = [\n",
    "    \"https://storage.googleapis.com/fchouteau-isae-otsu/IMG_PHR1A_PMS_201504131053028_small.tif\",\n",
    "    \"https://storage.googleapis.com/fchouteau-isae-otsu/IMG_PHR1A_PMS_201506041053076_small.tif\",\n",
    "    \"https://storage.googleapis.com/fchouteau-isae-otsu/IMG_PHR1A_PMS_201609071056565_small.tif\",\n",
    "    \"https://storage.googleapis.com/fchouteau-isae-otsu/IMG_PHR1A_PMS_201707041049221_small.tif\",\n",
    "    \"https://storage.googleapis.com/fchouteau-isae-otsu/IMG_PHR1A_PMS_201908041045469_small.tif\",\n",
    "]"
   ]
  },
  {
   "cell_type": "code",
   "execution_count": null,
   "metadata": {},
   "outputs": [],
   "source": [
    "def download_file(in_url: str, out_filename: Path):\n",
    "    if not (out_filename).exists():\n",
    "        out_filename.parent.mkdir(exist_ok=True)\n",
    "        print(\"Downloading\", in_url)\n",
    "        response = requests.get(in_url)\n",
    "        with open(out_filename, \"wb\") as f:\n",
    "            f.write(response.content)"
   ]
  },
  {
   "cell_type": "code",
   "execution_count": null,
   "metadata": {},
   "outputs": [],
   "source": [
    "for image_url in image_urls:\n",
    "    download_file(image_url, Path() / \"data\" / image_url.split(\"/\")[-1])"
   ]
  },
  {
   "cell_type": "markdown",
   "metadata": {},
   "source": [
    "## Check image metadata\n",
    "\n",
    "Let's see if the image is tiled so we can select a chunk size."
   ]
  },
  {
   "cell_type": "code",
   "execution_count": null,
   "metadata": {},
   "outputs": [],
   "source": [
    "img = rasterio.open(\"data/IMG_PHR1A_PMS_201908041045469_small.tif\")\n",
    "print(img.is_tiled)"
   ]
  },
  {
   "cell_type": "code",
   "execution_count": null,
   "metadata": {},
   "outputs": [],
   "source": [
    "img.block_shapes"
   ]
  },
  {
   "cell_type": "markdown",
   "metadata": {},
   "source": [
    "The image has separate blocks for each band with block size 512 x 512. \n",
    "\n",
    "## Create xarray datasets"
   ]
  },
  {
   "cell_type": "code",
   "execution_count": null,
   "metadata": {},
   "outputs": [],
   "source": [
    "import datetime\n",
    "\n",
    "import dask.array as da\n",
    "import numpy as np\n",
    "import rioxarray\n",
    "import xarray as xr"
   ]
  },
  {
   "cell_type": "code",
   "execution_count": null,
   "metadata": {},
   "outputs": [],
   "source": [
    "image_files = sorted(list(Path(\"data\").glob(\"*.tif\")))\n",
    "print(image_files)"
   ]
  },
  {
   "cell_type": "code",
   "execution_count": null,
   "metadata": {},
   "outputs": [],
   "source": [
    "def path_to_datetime(image_file):\n",
    "    date = image_file.stem\n",
    "    date = date.split(\"_\")[-2][:8]\n",
    "    date = datetime.datetime.strptime(date, \"%Y%m%d\")\n",
    "    return date"
   ]
  },
  {
   "cell_type": "code",
   "execution_count": null,
   "metadata": {},
   "outputs": [],
   "source": [
    "timestamps = []\n",
    "timeseries = []\n",
    "\n",
    "for image_file in image_files:\n",
    "    timestamps.append(path_to_datetime(image_file))\n",
    "    img = rioxarray.open_rasterio(image_file, chunks=512)\n",
    "    img = img.assign_coords(coords=dict(band=[\"RED\", \"GREEN\", \"BLUE\", \"NIR\"]))\n",
    "    timeseries.append(img)\n",
    "\n",
    "time_var = xr.Variable(\"time\", timestamps)\n",
    "\n",
    "timeseries = xr.concat(timeseries, dim=time_var)"
   ]
  },
  {
   "cell_type": "code",
   "execution_count": null,
   "metadata": {},
   "outputs": [],
   "source": [
    "timeseries"
   ]
  },
  {
   "cell_type": "code",
   "execution_count": null,
   "metadata": {},
   "outputs": [],
   "source": [
    "timeseries[0]"
   ]
  },
  {
   "cell_type": "markdown",
   "metadata": {},
   "source": [
    "## Calculate and display the image in RGB 8 bits\n",
    "\n",
    "The original image dynamic is in 12 bits (0-4095) in uint16, convert it to 8bits (0-255)"
   ]
  },
  {
   "cell_type": "code",
   "execution_count": null,
   "metadata": {},
   "outputs": [],
   "source": [
    "def compute_display_chunk(tile):\n",
    "    img = ...\n",
    "    return img"
   ]
  },
  {
   "cell_type": "markdown",
   "metadata": {},
   "source": [
    "**Solution 5** at the end"
   ]
  },
  {
   "cell_type": "code",
   "execution_count": null,
   "metadata": {},
   "outputs": [],
   "source": [
    "display_timeseries = compute_display_chunk(timeseries)"
   ]
  },
  {
   "cell_type": "code",
   "execution_count": null,
   "metadata": {},
   "outputs": [],
   "source": [
    "display_timeseries"
   ]
  },
  {
   "cell_type": "code",
   "execution_count": null,
   "metadata": {},
   "outputs": [],
   "source": [
    "display_timeseries.data.visualize()"
   ]
  },
  {
   "cell_type": "code",
   "execution_count": null,
   "metadata": {},
   "outputs": [],
   "source": [
    "display_timeseries = display_timeseries.compute().transpose(\"time\", \"y\", \"x\", \"band\")"
   ]
  },
  {
   "cell_type": "code",
   "execution_count": null,
   "metadata": {},
   "outputs": [],
   "source": [
    "for display_image in display_timeseries:\n",
    "    plt.title(display_image.time.data)\n",
    "    plt.imshow(display_image)\n",
    "    plt.show()"
   ]
  },
  {
   "cell_type": "markdown",
   "metadata": {},
   "source": [
    "## Calculate and display NDVI\n",
    "\n",
    "Now that we have the image as reflectance values, we are ready to compute NDVI.\n",
    "\n",
    "$$\n",
    "NDVI = \\frac{NIR - Red}{NIR + Red}\n",
    "$$\n",
    "\n",
    "This highlights areas of healthy vegetation with high NDVI values, which appear as green in the image below.\n",
    "\n",
    "Hint : Don't forget to convert the type of your images from 16bits to something that can go negative"
   ]
  },
  {
   "cell_type": "code",
   "execution_count": null,
   "metadata": {},
   "outputs": [],
   "source": [
    "def compute_ndvi_chunk(tile):\n",
    "    r = ...\n",
    "    n = ...\n",
    "\n",
    "    ndvi = ...\n",
    "\n",
    "    return ndvi"
   ]
  },
  {
   "cell_type": "markdown",
   "metadata": {},
   "source": [
    "**Solution 6** at the end"
   ]
  },
  {
   "cell_type": "code",
   "execution_count": null,
   "metadata": {},
   "outputs": [],
   "source": [
    "ndvi_timeseries = compute_ndvi_chunk(timeseries)"
   ]
  },
  {
   "cell_type": "code",
   "execution_count": null,
   "metadata": {},
   "outputs": [],
   "source": [
    "ndvi_timeseries"
   ]
  },
  {
   "cell_type": "code",
   "execution_count": null,
   "metadata": {},
   "outputs": [],
   "source": [
    "type(ndvi_timeseries.data)"
   ]
  },
  {
   "cell_type": "code",
   "execution_count": null,
   "metadata": {},
   "outputs": [],
   "source": [
    "ndvi_timeseries.data.visualize(optimize_graph=False)"
   ]
  },
  {
   "cell_type": "code",
   "execution_count": null,
   "metadata": {},
   "outputs": [],
   "source": [
    "ndvi_timeseries = ndvi_timeseries.compute()"
   ]
  },
  {
   "cell_type": "code",
   "execution_count": null,
   "metadata": {},
   "outputs": [],
   "source": [
    "for ndvi_image in ndvi_timeseries:\n",
    "    plt.title(ndvi_image.time.data)\n",
    "    plt.imshow(ndvi_image, cmap=\"viridis\")\n",
    "    plt.show()"
   ]
  },
  {
   "cell_type": "markdown",
   "metadata": {},
   "source": [
    "# 3 - Cleanup"
   ]
  },
  {
   "cell_type": "code",
   "execution_count": null,
   "metadata": {},
   "outputs": [],
   "source": [
    "cluster.shutdown()"
   ]
  },
  {
   "cell_type": "code",
   "execution_count": null,
   "metadata": {},
   "outputs": [],
   "source": [
    "client.close()"
   ]
  },
  {
   "cell_type": "markdown",
   "metadata": {},
   "source": [
    "# 4 - Solutions\n",
    "\n",
    "**Solution 1**\n",
    "\n",
    "```python\n",
    "def grayscale(rgb):\n",
    "    result = (rgb[..., 0] * 0.2125) + (rgb[..., 1] * 0.7154) + (rgb[..., 2] * 0.0721)\n",
    "    return result\n",
    "```\n",
    "\n",
    "**Solution 2**\n",
    "\n",
    "```python\n",
    "result = grayscale(tiled_astronaut_images)\n",
    "result\n",
    "```\n",
    "\n",
    "**Solution 3**\n",
    "\n",
    "```python\n",
    "smoothed_image = dask_image.ndfilters.gaussian_filter(combined_image, sigma=[1, 1])\n",
    "```\n",
    "\n",
    "**Solution 4**\n",
    "\n",
    "```python\n",
    "label_image, num_labels = dask_image.ndmeasure.label(threshold_image)\n",
    "```\n",
    "\n",
    "**Solution 5**\n",
    "\n",
    "```python\n",
    "def compute_display_chunk(tile):\n",
    "    img = (\n",
    "        tile[:, [0, 1, 2], :, :].clip(0, 4095).astype(np.float32) / 4095.0 * 255.0\n",
    "    ).astype(np.uint8)\n",
    "    return img\n",
    "```\n",
    "\n",
    "**Solution 6**\n",
    "\n",
    "```python\n",
    "def compute_ndvi_chunk(tile):\n",
    "    r = tile[:, 0, :, :].clip(0, 4095).astype(np.float32) / 4095.0\n",
    "    n = tile[:, 3, :, :].clip(0, 4095).astype(np.float32) / 4095.0\n",
    "\n",
    "    ndvi = n - r / n + r\n",
    "\n",
    "    return ndvi\n",
    "```"
   ]
  },
  {
   "cell_type": "code",
   "execution_count": null,
   "metadata": {},
   "outputs": [],
   "source": []
  }
 ],
 "metadata": {
  "environment": {
   "kernel": "python3",
   "name": "pytorch-gpu.1-10.m87",
   "type": "gcloud",
   "uri": "gcr.io/deeplearning-platform-release/pytorch-gpu.1-10:m87"
  },
  "kernelspec": {
   "display_name": "py39-isae",
   "language": "python",
   "name": "py39-isae"
  },
  "language_info": {
   "codemirror_mode": {
    "name": "ipython",
    "version": 3
   },
   "file_extension": ".py",
   "mimetype": "text/x-python",
   "name": "python",
   "nbconvert_exporter": "python",
   "pygments_lexer": "ipython3",
   "version": "3.9.14"
  }
 },
 "nbformat": 4,
 "nbformat_minor": 4
}
