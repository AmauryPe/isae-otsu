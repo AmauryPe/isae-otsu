{
 "cells": [
  {
   "cell_type": "markdown",
   "id": "687c8810-6416-4db6-a145-08ec14ca2fb1",
   "metadata": {},
   "source": [
    "# Introduction à xarray\n",
    "\n",
    "https://docs.xarray.dev/en/stable/index.html\n",
    "\n",
    "xarray (formerly xray) is an open source project and Python package that makes working with labelled multi-dimensional arrays simple, efficient, and fun!\n",
    "\n",
    "Xarray introduces labels in the form of dimensions, coordinates and attributes on top of raw NumPy-like arrays, which allows for a more intuitive, more concise, and less error-prone developer experience. The package includes a large and growing library of domain-agnostic functions for advanced analytics and visualization with these data structures.\n",
    "\n",
    "Xarray is inspired by and borrows heavily from pandas, the popular data analysis package focused on labelled tabular data. It is particularly tailored to working with netCDF files, which were the source of xarray’s data model, and integrates tightly with dask for parallel computing.\n",
    "\n",
    "You can first have a look at the following slides if you want to get a grasp of xarray\n",
    "\n",
    "https://fabienmaussion.info/acinn_xarray_workshop/#/"
   ]
  },
  {
   "cell_type": "code",
   "execution_count": null,
   "id": "58804744-6727-4162-8300-a2fa35536abc",
   "metadata": {},
   "outputs": [],
   "source": [
    "!pip install xarray"
   ]
  },
  {
   "cell_type": "markdown",
   "id": "6b2f1d08-55de-44f3-b390-cc81e3e4bbb8",
   "metadata": {},
   "source": [
    "## 1) xarray for labelled multidimensionnal data & relationship with numpy\n",
    "\n",
    "Let's load an image using numpy"
   ]
  },
  {
   "cell_type": "code",
   "execution_count": null,
   "id": "a19eb785-071e-4ee0-9207-c4e82b70cc75",
   "metadata": {},
   "outputs": [],
   "source": [
    "import numpy as np\n",
    "import skimage.data\n",
    "import xarray as xr\n",
    "from matplotlib import pyplot as plt"
   ]
  },
  {
   "cell_type": "code",
   "execution_count": null,
   "id": "80b77113-c064-404d-b834-addc5ea710e9",
   "metadata": {},
   "outputs": [],
   "source": [
    "cat = skimage.data.chelsea()"
   ]
  },
  {
   "cell_type": "code",
   "execution_count": null,
   "id": "c60ed1b5-7f13-48f4-9b09-caeba6f15fb0",
   "metadata": {},
   "outputs": [],
   "source": [
    "plt.imshow(cat)\n",
    "plt.show()"
   ]
  },
  {
   "cell_type": "markdown",
   "id": "7d7458f7-206d-4941-b510-7308ff059791",
   "metadata": {},
   "source": [
    "Let's transform it into an xarray.\n",
    "\n",
    "As you can see, it \"wraps\" a numpy array and allows you to name dimensions."
   ]
  },
  {
   "cell_type": "code",
   "execution_count": null,
   "id": "4917f1c5-0c68-45b8-b51d-4d03ee2c20f6",
   "metadata": {},
   "outputs": [],
   "source": [
    "cat = xr.DataArray(data=cat, dims=[\"y\", \"x\", \"band\"])"
   ]
  },
  {
   "cell_type": "code",
   "execution_count": null,
   "id": "6b219c38-ef0f-491a-8d34-9f6929b701bb",
   "metadata": {},
   "outputs": [],
   "source": [
    "cat"
   ]
  },
  {
   "cell_type": "markdown",
   "id": "b294d618-7996-437e-ab08-5f217f0a7d08",
   "metadata": {},
   "source": [
    "Using xarray:\n",
    "\n",
    "    Data stored as a Numpy arrays.\n",
    "    Dimensions do have a name.\n",
    "    The coordinates of each of the dimensions can represent geographical coordinates, categories, dates, ... instead of just an index.\n",
    "\n",
    "\n",
    "\n",
    "Xarray’s labels make working with multidimensional data much easier:\n",
    "\n",
    "In numpy, to transpose data, you would use\n",
    "\n",
    "```python\n",
    "cat = cat.transpose((0,1,2))\n",
    "```\n",
    "\n",
    "However, if the dimensions are already in the correct order, or if you don't remember the dimensions order, this can become very painful. \n",
    "\n",
    "Using xarray, you can directly use the dimension names :"
   ]
  },
  {
   "cell_type": "code",
   "execution_count": null,
   "id": "58d1f9a0-f060-4866-8ecb-56263dd17471",
   "metadata": {},
   "outputs": [],
   "source": [
    "trcat = cat.transpose(\"x\", \"y\", \"band\")"
   ]
  },
  {
   "cell_type": "code",
   "execution_count": null,
   "id": "96cecb14-9b43-4b2a-8c01-5f7dd9d526b1",
   "metadata": {},
   "outputs": [],
   "source": [
    "trcat"
   ]
  },
  {
   "cell_type": "code",
   "execution_count": null,
   "id": "7e541832-085b-47a8-b14c-18b803f53c60",
   "metadata": {},
   "outputs": [],
   "source": [
    "# It works like a numpy array\n",
    "plt.imshow(trcat)\n",
    "plt.show()"
   ]
  },
  {
   "cell_type": "markdown",
   "id": "8e6c140d-4b49-4e73-bf81-79a806870a41",
   "metadata": {},
   "source": [
    "Let's do a mean accross the channels to get a grayscale cat. If you did it with numpy you would have to do\n",
    "```python\n",
    "gray_cat = cat.mean(axis=-1)\n",
    "```\n",
    "This implies, as usual, remembering order of the dimensions. For now it's kinda easy, but it can become harder on datasets with lots of dimensions"
   ]
  },
  {
   "cell_type": "code",
   "execution_count": null,
   "id": "c1b7321b-8855-4286-81b9-7aa6782e186d",
   "metadata": {},
   "outputs": [],
   "source": [
    "gray_cat = cat.mean(dim=\"band\")\n",
    "gray_cat"
   ]
  },
  {
   "cell_type": "code",
   "execution_count": null,
   "id": "02bc554d-397d-42cc-a272-3c57ce128702",
   "metadata": {},
   "outputs": [],
   "source": [
    "plt.imshow(gray_cat, cmap=\"gray\")\n",
    "plt.show()"
   ]
  },
  {
   "cell_type": "markdown",
   "id": "e834faa5-69c2-4567-b424-656eeb46ffe2",
   "metadata": {},
   "source": [
    "You can slice the array like a pandas dataframe, instead of like a numpy array "
   ]
  },
  {
   "cell_type": "code",
   "execution_count": null,
   "id": "9c3d5e3f-0a6d-4d77-8024-fd7f774017e1",
   "metadata": {},
   "outputs": [],
   "source": [
    "# xarray\n",
    "cropped_cat = cat.isel(dict(x=slice(0, 256), y=slice(0, 256)))\n",
    "cropped_cat\n",
    "\n",
    "# but you can still use numpy style indexing\n",
    "numpy_cat = cat[:256, :256, :]\n",
    "\n",
    "np.all(cropped_cat == numpy_cat)"
   ]
  },
  {
   "cell_type": "code",
   "execution_count": null,
   "id": "e783332a-4f2f-499e-b941-0e9294db9c08",
   "metadata": {},
   "outputs": [],
   "source": [
    "plt.imshow(cropped_cat)\n",
    "plt.show()"
   ]
  },
  {
   "cell_type": "markdown",
   "id": "1f1d00d5-1073-493e-bc28-50d83a6c3080",
   "metadata": {},
   "source": [
    "You can also name \"coordinates\" in dimensions"
   ]
  },
  {
   "cell_type": "code",
   "execution_count": null,
   "id": "f17c1c0e-353c-48fe-ae0c-ef24ed4c677b",
   "metadata": {},
   "outputs": [],
   "source": [
    "cat = cat.assign_coords(dict(band=[\"red\", \"green\", \"blue\"]))\n",
    "cat"
   ]
  },
  {
   "cell_type": "code",
   "execution_count": null,
   "id": "b33d87a3-78de-4774-a5b6-b53c87c63954",
   "metadata": {},
   "outputs": [],
   "source": [
    "# You can select by name now\n",
    "blue_cat = cat.sel(dict(band=(\"blue\")))\n",
    "blue_cat"
   ]
  },
  {
   "cell_type": "markdown",
   "id": "29db7c41-faf1-43af-878a-d6242eedc78f",
   "metadata": {},
   "source": [
    "## 2) xarray + dask\n",
    "\n",
    "The magic of xarray is that it interfaces not only with numpy but with dask as well, creating a front-end to both interfaces"
   ]
  },
  {
   "cell_type": "code",
   "execution_count": null,
   "id": "1dd2a076-373c-439c-b347-3fef248dfa35",
   "metadata": {},
   "outputs": [],
   "source": [
    "import glob\n",
    "\n",
    "import dask\n",
    "import dask.array as da\n",
    "import numpy as np\n",
    "import skimage.io"
   ]
  },
  {
   "cell_type": "code",
   "execution_count": null,
   "id": "ddfe53ad-fd08-47a4-bf8c-209bf2b291e6",
   "metadata": {},
   "outputs": [],
   "source": [
    "lazy_cat_fn = dask.delayed(skimage.data.chelsea, pure=True)  # Lazy version of imread\n",
    "\n",
    "lazy_cat = da.from_delayed(lazy_cat_fn(), dtype=np.uint8, shape=(451, 300, 3))"
   ]
  },
  {
   "cell_type": "code",
   "execution_count": null,
   "id": "24e5dccb-ebd3-4216-bfc1-574de7a84168",
   "metadata": {},
   "outputs": [],
   "source": [
    "new_cat = xr.DataArray(lazy_cat, dims=(\"y\", \"x\", \"band\"))"
   ]
  },
  {
   "cell_type": "code",
   "execution_count": null,
   "id": "17cc2e52-ca7f-472d-b329-77c6c6f2802f",
   "metadata": {},
   "outputs": [],
   "source": [
    "# Our xarray is lazy !\n",
    "new_cat"
   ]
  },
  {
   "cell_type": "code",
   "execution_count": null,
   "id": "78a62d46-5ea2-4a44-8927-fa84e4d1a746",
   "metadata": {},
   "outputs": [],
   "source": [
    "new_gray_cat = new_cat.mean(dim=\"band\")"
   ]
  },
  {
   "cell_type": "code",
   "execution_count": null,
   "id": "71167339-3370-4a93-87a1-1e2843fd1ff3",
   "metadata": {},
   "outputs": [],
   "source": [
    "new_gray_cat"
   ]
  },
  {
   "cell_type": "code",
   "execution_count": null,
   "id": "231042d4-88f7-4ec2-a70e-1647c0462f92",
   "metadata": {},
   "outputs": [],
   "source": [
    "type(new_gray_cat.data)"
   ]
  },
  {
   "cell_type": "code",
   "execution_count": null,
   "id": "eb3b767c-158a-4a71-b042-17e81295801d",
   "metadata": {},
   "outputs": [],
   "source": [
    "# to get the array it's quite simple...\n",
    "arr = np.asarray(new_gray_cat)"
   ]
  },
  {
   "cell_type": "code",
   "execution_count": null,
   "id": "8ff576ba-9866-42dd-8f6b-873d85db3dc8",
   "metadata": {},
   "outputs": [],
   "source": [
    "plt.imshow(arr, cmap=\"gray\")\n",
    "plt.show()"
   ]
  },
  {
   "cell_type": "markdown",
   "id": "2b5cfc27-87b8-4630-928e-324d349bcdf9",
   "metadata": {},
   "source": [
    "## 3) How do I... ?\n",
    "\n",
    "You can look at the reference guide https://docs.xarray.dev/en/stable/howdoi.html to gt more ideas about using xarray"
   ]
  },
  {
   "cell_type": "markdown",
   "id": "af0538ad-b84a-4a83-92c4-ee59003bc3c8",
   "metadata": {},
   "source": [
    "## What's next\n",
    "\n",
    "For more information about xarray you can read the user guide : https://xarray.pydata.org/en/stable/user-guide/index.html\n",
    "\n",
    "You can also play with the toy data provided : https://xarray.pydata.org/en/stable/gallery.html to get a feel of xarray capabilities, most notably to play with time series data"
   ]
  },
  {
   "cell_type": "markdown",
   "id": "4c8890c6-26b1-46a5-9167-f54d9b2c1d92",
   "metadata": {},
   "source": [
    "## Going further : PANGEO: A community platform for Big Data geoscience\n",
    "\n",
    "![](https://pangeo.io/_images/pangeo_tech_1.png)\n",
    "\n",
    "Website: https://pangeo.io/index.html\n",
    "\n",
    "They have a gallery with many interesting examples, many of them using this combination of xarray and dask.\n",
    "\n",
    "Pangeo focuses primarily on cloud computing (storing the big datasets in cloud-native file formats and also doing the computations in the cloud), but all the tools like xarray and dask developed by this community and shown in the examples also work on your laptop or university's cluster.\n",
    "\n",
    "They use a technical stack based on modern python \n",
    "\n",
    "![](https://pangeo.io/_images/interop.jpeg)\n",
    "\n",
    "You can look at some examples of provided by pangeo, many of which use dask & xarray :http://gallery.pangeo.io/\n",
    "\n",
    "For example the excellent dask & xarray tutorials:\n",
    "- http://gallery.pangeo.io/repos/pangeo-data/pangeo-tutorial-gallery/dask.html\n",
    "- http://gallery.pangeo.io/repos/pangeo-data/pangeo-tutorial-gallery/xarray.html"
   ]
  },
  {
   "cell_type": "code",
   "execution_count": null,
   "id": "00fa4e76-4869-4efb-9218-07315f6cd025",
   "metadata": {},
   "outputs": [],
   "source": []
  }
 ],
 "metadata": {
  "kernelspec": {
   "display_name": "py38-isae",
   "language": "python",
   "name": "py38-isae"
  },
  "language_info": {
   "codemirror_mode": {
    "name": "ipython",
    "version": 3
   },
   "file_extension": ".py",
   "mimetype": "text/x-python",
   "name": "python",
   "nbconvert_exporter": "python",
   "pygments_lexer": "ipython3",
   "version": "3.8.12"
  }
 },
 "nbformat": 4,
 "nbformat_minor": 5
}
