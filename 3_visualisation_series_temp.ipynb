{
 "cells": [
  {
   "cell_type": "markdown",
   "id": "727733ac-3b9c-4381-8284-a06ce719b518",
   "metadata": {},
   "source": [
    "# Visualisation d'une série temporelle d'images sur Toulouse\n",
    "\n",
    "Nous allons appliquer ce que nous avons vu précédemment pour charger et visualise une série temporelle d'images.\n",
    "\n",
    "Cela va aussi être l'occasion de faire la démonstration d'outils de visualisation avancés sur jupyter"
   ]
  },
  {
   "cell_type": "code",
   "execution_count": null,
   "id": "3a397d38-cc2d-44ca-b7c1-f711abb5bd23",
   "metadata": {},
   "outputs": [],
   "source": [
    "!pip install leafmap requests localtileserver geogif"
   ]
  },
  {
   "cell_type": "code",
   "execution_count": null,
   "id": "1a30b03b-cc94-45ab-93ed-87a6a40e50f7",
   "metadata": {},
   "outputs": [],
   "source": [
    "import os\n",
    "from pathlib import Path\n",
    "\n",
    "import requests\n",
    "\n",
    "image_urls = [\n",
    "    \"https://storage.googleapis.com/fchouteau-isae-otsu/IMG_PHR1A_PMS_201504131053028_8bits.tif\",\n",
    "    \"https://storage.googleapis.com/fchouteau-isae-otsu/IMG_PHR1A_PMS_201506041053076_8bits.tif\",\n",
    "    \"https://storage.googleapis.com/fchouteau-isae-otsu/IMG_PHR1A_PMS_201609071056565_8bits.tif\",\n",
    "    \"https://storage.googleapis.com/fchouteau-isae-otsu/IMG_PHR1A_PMS_201707041049221_8bits.tif\",\n",
    "    \"https://storage.googleapis.com/fchouteau-isae-otsu/IMG_PHR1A_PMS_201908041045469_8bits.tif\",\n",
    "]\n",
    "\n",
    "\n",
    "def download_file(in_url: str, out_filename: Path):\n",
    "    if not (out_filename).exists():\n",
    "        out_filename.parent.mkdir(exist_ok=True)\n",
    "        print(\"Downloading\", in_url)\n",
    "        response = requests.get(in_url)\n",
    "        with open(out_filename, \"wb\") as f:\n",
    "            f.write(response.content)\n",
    "\n",
    "\n",
    "for image_url in image_urls:\n",
    "    download_file(image_url, Path() / \"data\" / image_url.split(\"/\")[-1])"
   ]
  },
  {
   "cell_type": "code",
   "execution_count": null,
   "id": "920282b2-63f7-4e48-a3d6-214c32b946f8",
   "metadata": {},
   "outputs": [],
   "source": [
    "image_files = sorted(list(Path(\"data\").glob(\"*.tif\")))\n",
    "image_files"
   ]
  },
  {
   "cell_type": "markdown",
   "id": "d68eb1c2-974e-4a8b-84fc-6102a2d12b14",
   "metadata": {},
   "source": [
    "## Chargement d'une série temporelle et quelques traitements"
   ]
  },
  {
   "cell_type": "code",
   "execution_count": null,
   "id": "edb759cc-5cc0-4083-97c4-bcf924e2167f",
   "metadata": {},
   "outputs": [],
   "source": [
    "import datetime\n",
    "\n",
    "import geogif\n",
    "import numpy as np\n",
    "import xarray as xr"
   ]
  },
  {
   "cell_type": "code",
   "execution_count": null,
   "id": "85c7c990-607f-4644-addf-a9d151843b77",
   "metadata": {},
   "outputs": [],
   "source": [
    "def path_to_datetime(image_file):\n",
    "    date = image_file.stem\n",
    "    date = date.split(\"_\")[-2][:8]\n",
    "    date = datetime.datetime.strptime(date, \"%Y%m%d\")\n",
    "    return date\n",
    "\n",
    "\n",
    "timestamps = []\n",
    "timeseries = []\n",
    "\n",
    "for image_file in image_files:\n",
    "    timestamps.append(path_to_datetime(image_file))\n",
    "    img = xr.open_rasterio(image_file, chunks=dict(x=512, y=512))\n",
    "    img = img.assign_coords(coords=dict(band=[\"Red\", \"Green\", \"Blue\", \"Nir\"]))\n",
    "    timeseries.append(img)\n",
    "\n",
    "time_var = xr.Variable(\"time\", timestamps)\n",
    "\n",
    "timeseries = xr.concat(timeseries, dim=time_var)"
   ]
  },
  {
   "cell_type": "code",
   "execution_count": null,
   "id": "db7cbd02-1823-4f1b-9498-f30cdc7605d2",
   "metadata": {},
   "outputs": [],
   "source": [
    "timeseries"
   ]
  },
  {
   "cell_type": "code",
   "execution_count": null,
   "id": "6a5d44e6-bb32-42ba-80ba-66eec0dccf7d",
   "metadata": {},
   "outputs": [],
   "source": [
    "# Notons que la série temporelle est \"lazy\" car on a utilisé l'option \"chunks\" de open_rasterio\n",
    "type(timeseries.data)"
   ]
  },
  {
   "cell_type": "markdown",
   "id": "a077010d-4582-4b28-ac91-79bbc14f5797",
   "metadata": {},
   "source": [
    "Affichage de la série temporelle via xarray"
   ]
  },
  {
   "cell_type": "code",
   "execution_count": null,
   "id": "ef33c33e-2e83-456c-bff8-c5be85f74424",
   "metadata": {},
   "outputs": [],
   "source": [
    "timeseries.sel(band=[\"Red\", \"Green\", \"Blue\"]).plot.imshow(col=\"time\", robust=True)"
   ]
  },
  {
   "cell_type": "code",
   "execution_count": null,
   "id": "64128ecc-2e1c-4e26-b0f4-2bd3317f963a",
   "metadata": {},
   "outputs": [],
   "source": [
    "timeseries.sel(band=[\"Nir\", \"Green\", \"Blue\"]).plot.imshow(col=\"time\", robust=True)"
   ]
  },
  {
   "cell_type": "markdown",
   "id": "dc39c1e6-f6d4-47f4-b4d3-0d053d5d0cb0",
   "metadata": {},
   "source": [
    "Zoom sur une vignette particulière de l'image globale"
   ]
  },
  {
   "cell_type": "code",
   "execution_count": null,
   "id": "ca846831-25bc-402f-b9a4-6fcbdea8ab98",
   "metadata": {},
   "outputs": [],
   "source": [
    "area_of_interest = timeseries[:, :, 3100:3400, 2200:2500]\n",
    "area_of_interest"
   ]
  },
  {
   "cell_type": "code",
   "execution_count": null,
   "id": "3e549ea1-6152-41d8-8692-c8a26808b937",
   "metadata": {},
   "outputs": [],
   "source": [
    "area_of_interest.sel(band=[\"Red\", \"Green\", \"Blue\"]).plot.imshow(col=\"time\", robust=True)"
   ]
  },
  {
   "cell_type": "code",
   "execution_count": null,
   "id": "494ab5de-08c3-4b3e-9b2f-d9ca8179ba67",
   "metadata": {},
   "outputs": [],
   "source": [
    "# On peut maintenant faire un gif sans tomber \"out of memory\"\n",
    "my_gif = geogif.dgif(area_of_interest.sel(band=[\"Red\", \"Green\", \"Blue\"]), fps=1)"
   ]
  },
  {
   "cell_type": "code",
   "execution_count": null,
   "id": "48eedce1-77b6-4053-87c2-3dc397956b54",
   "metadata": {},
   "outputs": [],
   "source": [
    "my_gif.compute()"
   ]
  },
  {
   "cell_type": "markdown",
   "id": "c4757477-a534-4ed4-b4c0-4d886611c634",
   "metadata": {},
   "source": [
    "Calcul du NDVI"
   ]
  },
  {
   "cell_type": "code",
   "execution_count": null,
   "id": "2fd11b37-8acb-42b5-987b-e04aa7b1f34c",
   "metadata": {},
   "outputs": [],
   "source": [
    "red = area_of_interest.sel(band=[\"Red\"]).astype(np.float32) / 255.0\n",
    "nir = area_of_interest.sel(band=[\"Nir\"]).astype(np.float32) / 255.0\n",
    "red = red.assign_coords(coords=dict(band=[\"ndvi\"]))\n",
    "nir = nir.assign_coords(coords=dict(band=[\"ndvi\"]))"
   ]
  },
  {
   "cell_type": "code",
   "execution_count": null,
   "id": "504b225a-dc09-4202-a5ae-e8e10881d5e1",
   "metadata": {},
   "outputs": [],
   "source": [
    "# Notons encore une fois que le calcul n'est pas encore effectué\n",
    "red"
   ]
  },
  {
   "cell_type": "code",
   "execution_count": null,
   "id": "f5f12531-8d47-4378-a837-6c8dca33a560",
   "metadata": {},
   "outputs": [],
   "source": [
    "nir"
   ]
  },
  {
   "cell_type": "code",
   "execution_count": null,
   "id": "8b07e045-e16a-4c52-9a19-c0ea646613ac",
   "metadata": {},
   "outputs": [],
   "source": [
    "ndvi = (nir - red) / (nir + red)"
   ]
  },
  {
   "cell_type": "code",
   "execution_count": null,
   "id": "3b860d01-9894-47de-8dbe-fceef45d9fea",
   "metadata": {},
   "outputs": [],
   "source": [
    "ndvi"
   ]
  },
  {
   "cell_type": "code",
   "execution_count": null,
   "id": "c5fa1b7c-5c78-44ea-ac80-d8c8a692f41c",
   "metadata": {},
   "outputs": [],
   "source": [
    "ndvi = ndvi.sel(band=[\"ndvi\"]).compute()"
   ]
  },
  {
   "cell_type": "code",
   "execution_count": null,
   "id": "3f9b76ec-1d76-4747-9c97-66c210004797",
   "metadata": {},
   "outputs": [],
   "source": [
    "geogif.gif(ndvi, fps=1, cmap=\"viridis\")"
   ]
  },
  {
   "cell_type": "markdown",
   "id": "2862cab4-b619-4337-82e2-a66fbbeba74e",
   "metadata": {
    "tags": []
   },
   "source": [
    "## Visualisation interactive d'une image\n",
    "\n",
    "Démonstration de ipyleaflet et de localtileserver \n",
    "\n",
    "Si ça ne fonctionne pas, lancez: \n",
    "\n",
    "```bash\n",
    "jupyter labextension install @jupyter-widgets/jupyterlab-manager jupyter-leaflet\n",
    "```\n",
    "\n",
    "dans un terminal du jupyterlab\n"
   ]
  },
  {
   "cell_type": "code",
   "execution_count": null,
   "id": "c7d4b143-79ac-4908-ad79-0eaa37783f14",
   "metadata": {},
   "outputs": [],
   "source": [
    "from ipyleaflet import LayersControl, Map, Marker, ScaleControl, FullScreenControl, SplitMapControl\n",
    "from localtileserver import get_leaflet_tile_layer"
   ]
  },
  {
   "cell_type": "code",
   "execution_count": null,
   "id": "5109f899-72c6-4f2c-9b2f-061f7bdac1f6",
   "metadata": {},
   "outputs": [],
   "source": [
    "image = get_leaflet_tile_layer(image_files[0], band=[1, 2, 3], name=image_files[0].stem.replace(\"_8bits\", \"\"))\n",
    "supaero = Marker(location=(43.56588645818575, 1.4746516942977905), name=\"ISAE\")\n",
    "\n",
    "# Create ipyleaflet map, add tile layer, and display\n",
    "m = Map(center=(43.585, 1.455), zoom=13)\n",
    "m.add_control(ScaleControl(position=\"bottomleft\"))\n",
    "m.add_control(LayersControl(position=\"topright\"))\n",
    "m.add_layer(image)\n",
    "m.add_layer(supaero)"
   ]
  },
  {
   "cell_type": "code",
   "execution_count": null,
   "id": "7dcdef5e-ad84-4c6f-8719-61e62e68b5e1",
   "metadata": {},
   "outputs": [],
   "source": [
    "m"
   ]
  },
  {
   "cell_type": "markdown",
   "id": "d1c1ba15-ed35-4217-ba10-dfceb9e1c1e2",
   "metadata": {},
   "source": [
    "## Visualisation comparative de deux images\n",
    "\n",
    "Observons les changements sur la zone de Toulouse entre 2015 et 2016"
   ]
  },
  {
   "cell_type": "code",
   "execution_count": null,
   "id": "1062471a-74ee-4ecc-8d90-f93ba0fc598c",
   "metadata": {},
   "outputs": [],
   "source": [
    "# Create ipyleaflet tile layer from that server\n",
    "image_1 = get_leaflet_tile_layer(image_files[0], band=[1, 2, 3], name=image_files[0].stem.replace(\"_8bits\", \"\"))\n",
    "image_2 = get_leaflet_tile_layer(image_files[-1], band=[1, 2, 3], name=image_files[-1].stem.replace(\"_8bits\", \"\"))\n",
    "supaero = Marker(location=(43.56588645818575, 1.4746516942977905), name=\"ISAE\")\n",
    "\n",
    "# Create ipyleaflet map, add tile layer, and display\n",
    "m = Map(center=(43.585, 1.455), zoom=13)\n",
    "m.add_control(ScaleControl(position=\"bottomleft\"))\n",
    "m.add_control(FullScreenControl())\n",
    "m.add_layer(supaero)\n",
    "control = SplitMapControl(left_layer=image_1, right_layer=image_2)\n",
    "m.add_control(control)"
   ]
  },
  {
   "cell_type": "code",
   "execution_count": null,
   "id": "442b46c9-3177-427d-9aaf-adce0bff88b0",
   "metadata": {},
   "outputs": [],
   "source": [
    "m"
   ]
  },
  {
   "cell_type": "markdown",
   "id": "6d620f30-8cf3-43b2-9402-3cce89f112ee",
   "metadata": {},
   "source": [
    "Essayez de comparer la même image en R-G-B (bandes 1,2,3) et NIR-G-G (bandes 4,2,3)"
   ]
  },
  {
   "cell_type": "code",
   "execution_count": null,
   "id": "e56c6c31-6dc4-42ce-91fb-218262083263",
   "metadata": {},
   "outputs": [],
   "source": [
    "# TODO"
   ]
  }
 ],
 "metadata": {
  "kernelspec": {
   "display_name": "py38-isae",
   "language": "python",
   "name": "py38-isae"
  },
  "language_info": {
   "codemirror_mode": {
    "name": "ipython",
    "version": 3
   },
   "file_extension": ".py",
   "mimetype": "text/x-python",
   "name": "python",
   "nbconvert_exporter": "python",
   "pygments_lexer": "ipython3",
   "version": "3.8.12"
  }
 },
 "nbformat": 4,
 "nbformat_minor": 5
}
