{
 "cells": [
  {
   "cell_type": "markdown",
   "id": "727733ac-3b9c-4381-8284-a06ce719b518",
   "metadata": {},
   "source": [
    "# Visualisation d'une série temporelle d'images sur Toulouse\n",
    "\n",
    "Nous allons appliquer ce que nous avons vu précédemment pour visualiser une série temporelle d'images"
   ]
  },
  {
   "cell_type": "code",
   "execution_count": null,
   "id": "1a30b03b-cc94-45ab-93ed-87a6a40e50f7",
   "metadata": {},
   "outputs": [],
   "source": []
  }
 ],
 "metadata": {
  "kernelspec": {
   "display_name": "py38-deepzoom",
   "language": "python",
   "name": "py38-deepzoom"
  },
  "language_info": {
   "codemirror_mode": {
    "name": "ipython",
    "version": 3
   },
   "file_extension": ".py",
   "mimetype": "text/x-python",
   "name": "python",
   "nbconvert_exporter": "python",
   "pygments_lexer": "ipython3",
   "version": "3.8.12"
  }
 },
 "nbformat": 4,
 "nbformat_minor": 5
}
