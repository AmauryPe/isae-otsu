{
 "cells": [
  {
   "cell_type": "markdown",
   "id": "6745bff3",
   "metadata": {},
   "source": [
    "# Introduction à xarray\n",
    "\n",
    "https://docs.xarray.dev/en/stable/index.html\n",
    "\n",
    "xarray (formerly xray) is an open source project and Python package that makes working with labelled multi-dimensional arrays simple, efficient, and fun!\n",
    "\n",
    "Xarray introduces labels in the form of dimensions, coordinates and attributes on top of raw NumPy-like arrays, which allows for a more intuitive, more concise, and less error-prone developer experience. The package includes a large and growing library of domain-agnostic functions for advanced analytics and visualization with these data structures.\n",
    "\n",
    "Xarray is inspired by and borrows heavily from pandas, the popular data analysis package focused on labelled tabular data. It is particularly tailored to working with netCDF files, which were the source of xarray’s data model, and integrates tightly with dask for parallel computing.\n",
    "\n",
    "You can first have a look at the following slides if you want to get a grasp of xarray\n",
    "\n",
    "https://fabienmaussion.info/acinn_xarray_workshop/#/"
   ]
  },
  {
   "cell_type": "markdown",
   "id": "7901c3d8",
   "metadata": {},
   "source": [
    "## 1) xarray for labelled multidimensionnal data & relationship with numpy\n",
    "\n",
    "Let's load an image using numpy"
   ]
  },
  {
   "cell_type": "code",
   "execution_count": null,
   "id": "54c6a1f8",
   "metadata": {},
   "outputs": [],
   "source": [
    "import numpy as np\n",
    "import skimage.data\n",
    "import xarray as xr\n",
    "from matplotlib import pyplot as plt"
   ]
  },
  {
   "cell_type": "code",
   "execution_count": null,
   "id": "5f085376",
   "metadata": {},
   "outputs": [],
   "source": [
    "cat = skimage.data.chelsea()"
   ]
  },
  {
   "cell_type": "code",
   "execution_count": null,
   "id": "2c02fdef",
   "metadata": {},
   "outputs": [],
   "source": [
    "plt.imshow(cat)\n",
    "plt.show()"
   ]
  },
  {
   "cell_type": "markdown",
   "id": "272abba0",
   "metadata": {},
   "source": [
    "Let's transform it into an xarray.\n",
    "\n",
    "As you can see, it \"wraps\" a numpy array and allows you to name dimensions."
   ]
  },
  {
   "cell_type": "code",
   "execution_count": null,
   "id": "6ad9071d",
   "metadata": {},
   "outputs": [],
   "source": [
    "cat = xr.DataArray(data=cat, dims=[\"y\", \"x\", \"band\"])"
   ]
  },
  {
   "cell_type": "code",
   "execution_count": null,
   "id": "05d00b47",
   "metadata": {},
   "outputs": [],
   "source": [
    "cat"
   ]
  },
  {
   "cell_type": "markdown",
   "id": "a91007de",
   "metadata": {},
   "source": [
    "Using xarray:\n",
    "\n",
    "    Data stored as a Numpy arrays.\n",
    "    Dimensions do have a name.\n",
    "    The coordinates of each of the dimensions can represent geographical coordinates, categories, dates, ... instead of just an index.\n",
    "\n",
    "\n",
    "\n",
    "Xarray’s labels make working with multidimensional data much easier:\n",
    "\n",
    "In numpy, to transpose data, you would use\n",
    "\n",
    "```python\n",
    "cat = cat.transpose((0,1,2))\n",
    "```\n",
    "\n",
    "However, if the dimensions are already in the correct order, or if you don't remember the dimensions order, this can become very painful. \n",
    "\n",
    "Using xarray, you can directly use the dimension names :"
   ]
  },
  {
   "cell_type": "code",
   "execution_count": null,
   "id": "d0809c64",
   "metadata": {},
   "outputs": [],
   "source": [
    "trcat = cat.transpose(\"x\", \"y\", \"band\")"
   ]
  },
  {
   "cell_type": "code",
   "execution_count": null,
   "id": "bd3fb425",
   "metadata": {},
   "outputs": [],
   "source": [
    "trcat"
   ]
  },
  {
   "cell_type": "code",
   "execution_count": null,
   "id": "8addddd6",
   "metadata": {},
   "outputs": [],
   "source": [
    "# It works like a numpy array\n",
    "plt.imshow(trcat)\n",
    "plt.show()"
   ]
  },
  {
   "cell_type": "markdown",
   "id": "f505ea18",
   "metadata": {},
   "source": [
    "Let's do a mean accross the channels to get a grayscale cat. If you did it with numpy you would have to do\n",
    "```python\n",
    "gray_cat = cat.mean(axis=-1)\n",
    "```\n",
    "This implies, as usual, remembering order of the dimensions. For now it's kinda easy, but it can become harder on datasets with lots of dimensions"
   ]
  },
  {
   "cell_type": "code",
   "execution_count": null,
   "id": "e2c03c3a",
   "metadata": {},
   "outputs": [],
   "source": [
    "gray_cat = cat.mean(dim=\"band\")\n",
    "gray_cat"
   ]
  },
  {
   "cell_type": "code",
   "execution_count": null,
   "id": "696e4e7b",
   "metadata": {},
   "outputs": [],
   "source": [
    "plt.imshow(gray_cat, cmap=\"gray\")\n",
    "plt.show()"
   ]
  },
  {
   "cell_type": "markdown",
   "id": "c53a8bcc",
   "metadata": {},
   "source": [
    "You can slice the array like a pandas dataframe, instead of like a numpy array "
   ]
  },
  {
   "cell_type": "code",
   "execution_count": null,
   "id": "af3de520",
   "metadata": {},
   "outputs": [],
   "source": [
    "# xarray\n",
    "cropped_cat = cat.isel(dict(x=slice(0, 256), y=slice(0, 256)))\n",
    "cropped_cat\n",
    "\n",
    "# but you can still use numpy style indexing\n",
    "numpy_cat = cat[:256, :256, :]\n",
    "\n",
    "np.all(cropped_cat == numpy_cat)"
   ]
  },
  {
   "cell_type": "code",
   "execution_count": null,
   "id": "5aed43d6",
   "metadata": {},
   "outputs": [],
   "source": [
    "plt.imshow(cropped_cat)\n",
    "plt.show()"
   ]
  },
  {
   "cell_type": "markdown",
   "id": "3b51e198",
   "metadata": {},
   "source": [
    "You can also name \"coordinates\" in dimensions"
   ]
  },
  {
   "cell_type": "code",
   "execution_count": null,
   "id": "c4965731",
   "metadata": {},
   "outputs": [],
   "source": [
    "cat = cat.assign_coords(dict(band=[\"red\", \"green\", \"blue\"]))\n",
    "cat"
   ]
  },
  {
   "cell_type": "code",
   "execution_count": null,
   "id": "083bccd1",
   "metadata": {},
   "outputs": [],
   "source": [
    "# You can select by name now\n",
    "blue_cat = cat.sel(dict(band=(\"blue\")))\n",
    "blue_cat"
   ]
  },
  {
   "cell_type": "markdown",
   "id": "67258724",
   "metadata": {},
   "source": [
    "## 2) xarray + dask\n",
    "\n",
    "The magic of xarray is that it interfaces not only with numpy but with dask as well, creating a front-end to both interfaces\n",
    "\n",
    "Have a look at the [documentation here to learn more about it](https://docs.xarray.dev/en/stable/user-guide/dask.html)"
   ]
  },
  {
   "cell_type": "code",
   "execution_count": null,
   "id": "49032331-c352-41a1-ac8d-1381d97d8c91",
   "metadata": {},
   "outputs": [],
   "source": [
    "import dask\n",
    "import dask.array as da"
   ]
  },
  {
   "cell_type": "code",
   "execution_count": null,
   "id": "4dfd404a",
   "metadata": {},
   "outputs": [],
   "source": [
    "lazy_cat_fn = dask.delayed(skimage.data.chelsea, pure=True)  # Lazy version of imread\n",
    "\n",
    "lazy_cat = da.from_delayed(lazy_cat_fn(), dtype=np.uint8, shape=(451, 300, 3))"
   ]
  },
  {
   "cell_type": "code",
   "execution_count": null,
   "id": "0abe7436",
   "metadata": {},
   "outputs": [],
   "source": [
    "new_cat = xr.DataArray(lazy_cat, dims=(\"y\", \"x\", \"band\"))"
   ]
  },
  {
   "cell_type": "code",
   "execution_count": null,
   "id": "f3c38791",
   "metadata": {},
   "outputs": [],
   "source": [
    "# Our xarray is lazy !\n",
    "new_cat"
   ]
  },
  {
   "cell_type": "code",
   "execution_count": null,
   "id": "e0212973",
   "metadata": {},
   "outputs": [],
   "source": [
    "new_gray_cat = new_cat.mean(dim=\"band\")"
   ]
  },
  {
   "cell_type": "code",
   "execution_count": null,
   "id": "ab9a7068",
   "metadata": {},
   "outputs": [],
   "source": [
    "new_gray_cat"
   ]
  },
  {
   "cell_type": "code",
   "execution_count": null,
   "id": "bfa8927b",
   "metadata": {},
   "outputs": [],
   "source": [
    "type(new_gray_cat.data)"
   ]
  },
  {
   "cell_type": "code",
   "execution_count": null,
   "id": "9b0e9a7f",
   "metadata": {},
   "outputs": [],
   "source": [
    "# to get the array it's quite simple...\n",
    "arr = np.asarray(new_gray_cat)"
   ]
  },
  {
   "cell_type": "code",
   "execution_count": null,
   "id": "1dfadfd5",
   "metadata": {},
   "outputs": [],
   "source": [
    "plt.imshow(arr, cmap=\"gray\")\n",
    "plt.show()"
   ]
  },
  {
   "cell_type": "markdown",
   "id": "1930bacb",
   "metadata": {},
   "source": [
    "## 3) How do I... ?\n",
    "\n",
    "You can look at the reference guide https://docs.xarray.dev/en/stable/howdoi.html to gt more ideas about using xarray"
   ]
  },
  {
   "cell_type": "markdown",
   "id": "6405595d",
   "metadata": {},
   "source": [
    "## 4) Going further\n",
    "\n",
    "For more information about xarray you can read the user guide : https://xarray.pydata.org/en/stable/user-guide/index.html\n",
    "\n",
    "You can also play with the toy data provided : https://xarray.pydata.org/en/stable/gallery.html to get a feel of xarray capabilities, most notably to play with time series data"
   ]
  },
  {
   "cell_type": "markdown",
   "id": "aac07df9",
   "metadata": {},
   "source": [
    "## 5) Going further : PANGEO: A community platform for Big Data geoscience\n",
    "\n",
    "![](https://pangeo.io/_images/pangeo_tech_1.png)\n",
    "\n",
    "Website: https://pangeo.io/index.html\n",
    "\n",
    "They have a gallery with many interesting examples, many of them using this combination of xarray and dask.\n",
    "\n",
    "Pangeo focuses primarily on cloud computing (storing the big datasets in cloud-native file formats and also doing the computations in the cloud), but all the tools like xarray and dask developed by this community and shown in the examples also work on your laptop or university's cluster.\n",
    "\n",
    "They use a technical stack based on modern python \n",
    "\n",
    "![](https://pangeo.io/_images/interop.jpeg)\n",
    "\n",
    "You can look at some examples of provided by pangeo, many of which use dask & xarray :http://gallery.pangeo.io/\n",
    "\n",
    "For example the excellent dask & xarray tutorials:\n",
    "- http://gallery.pangeo.io/repos/pangeo-data/pangeo-tutorial-gallery/dask.html\n",
    "- http://gallery.pangeo.io/repos/pangeo-data/pangeo-tutorial-gallery/xarray.html"
   ]
  },
  {
   "cell_type": "code",
   "execution_count": null,
   "id": "f56215f2-d1ac-4319-8ca1-1e08c43eaa07",
   "metadata": {},
   "outputs": [],
   "source": []
  }
 ],
 "metadata": {
  "jupytext": {
   "formats": "ipynb,auto:percent"
  },
  "kernelspec": {
   "display_name": "py39-isae",
   "language": "python",
   "name": "py39-isae"
  },
  "language_info": {
   "codemirror_mode": {
    "name": "ipython",
    "version": 3
   },
   "file_extension": ".py",
   "mimetype": "text/x-python",
   "name": "python",
   "nbconvert_exporter": "python",
   "pygments_lexer": "ipython3",
   "version": "3.9.14"
  }
 },
 "nbformat": 4,
 "nbformat_minor": 5
}
