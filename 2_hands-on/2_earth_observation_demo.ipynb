{
 "cells": [
  {
   "cell_type": "markdown",
   "id": "5f602e97-9bae-4f0f-9f7f-a3335a9419d6",
   "metadata": {
    "tags": []
   },
   "source": [
    "# Hands On \"Observing the Earth from your Jupyter Notebook\"\n",
    "\n",
    "Ce notebook sert d'illustration et de démos d'outils de manipulation de données massives dans un contexte de cloud computing"
   ]
  },
  {
   "cell_type": "markdown",
   "id": "240ac3c2-3ffd-4ce9-aa70-a19cf281caf9",
   "metadata": {},
   "source": [
    "## 1 - Chargement et visualisation d'images satellites avec xarray\n",
    "\n",
    "Cette démo utilise les concepts que nous avons vu en cours pour charger une séries d'images temporelles\n",
    "\n",
    "Nous allons voir en détail dans le prochain BE les concepts derrière les outils que nous utilisons"
   ]
  },
  {
   "cell_type": "code",
   "execution_count": null,
   "id": "69481819-45bc-43a7-8df5-baf9065efe5c",
   "metadata": {},
   "outputs": [],
   "source": [
    "import datetime\n",
    "import os\n",
    "from pathlib import Path\n",
    "\n",
    "import geogif\n",
    "import numpy as np\n",
    "import requests\n",
    "import rioxarray\n",
    "import xarray as xr\n",
    "from rich import print"
   ]
  },
  {
   "cell_type": "code",
   "execution_count": null,
   "id": "3e75abf6-3914-4f08-be34-04e1259e9a2b",
   "metadata": {},
   "outputs": [],
   "source": [
    "image_urls = [\n",
    "    \"https://storage.googleapis.com/fchouteau-isae-otsu/IMG_PHR1A_PMS_201504131053028_8bits.tif\",\n",
    "    \"https://storage.googleapis.com/fchouteau-isae-otsu/IMG_PHR1A_PMS_201506041053076_8bits.tif\",\n",
    "    \"https://storage.googleapis.com/fchouteau-isae-otsu/IMG_PHR1A_PMS_201609071056565_8bits.tif\",\n",
    "    \"https://storage.googleapis.com/fchouteau-isae-otsu/IMG_PHR1A_PMS_201707041049221_8bits.tif\",\n",
    "    \"https://storage.googleapis.com/fchouteau-isae-otsu/IMG_PHR1A_PMS_201908041045469_8bits.tif\",\n",
    "]\n",
    "\n",
    "\n",
    "def download_file(in_url: str, out_filename: Path):\n",
    "    if not (out_filename).exists():\n",
    "        out_filename.parent.mkdir(exist_ok=True)\n",
    "        print(\"Downloading\", in_url)\n",
    "        response = requests.get(in_url)\n",
    "        with open(out_filename, \"wb\") as f:\n",
    "            f.write(response.content)\n",
    "\n",
    "\n",
    "for image_url in image_urls:\n",
    "    download_file(image_url, Path() / \"data\" / image_url.split(\"/\")[-1])"
   ]
  },
  {
   "cell_type": "code",
   "execution_count": null,
   "id": "d9438305-8885-4d47-84fa-b4dd4dfcd3af",
   "metadata": {},
   "outputs": [],
   "source": [
    "image_files = sorted(list(Path(\"data\").glob(\"*.tif\")))\n",
    "print(image_files)"
   ]
  },
  {
   "cell_type": "markdown",
   "id": "e26806ef-8b7f-4c42-9d63-027a0ba9efa5",
   "metadata": {},
   "source": [
    "### Chargement des images\n",
    "\n",
    "On utilise [rioxarray](https://corteva.github.io/rioxarray/stable/rioxarray.html#rioxarray-open-rasterio) pour ouvrir des images satellites en tant que tableau xarray/dask"
   ]
  },
  {
   "cell_type": "code",
   "execution_count": null,
   "id": "7ce2a7bd-acf6-41c2-9f2d-4e04fd64e5e7",
   "metadata": {},
   "outputs": [],
   "source": [
    "def path_to_datetime(image_file):\n",
    "    date = image_file.stem\n",
    "    date = date.split(\"_\")[-2][:8]\n",
    "    date = datetime.datetime.strptime(date, \"%Y%m%d\")\n",
    "    return date\n",
    "\n",
    "\n",
    "timestamps = []\n",
    "timeseries = []\n",
    "\n",
    "for image_file in image_files:\n",
    "    timestamps.append(path_to_datetime(image_file))\n",
    "    img = rioxarray.open_rasterio(image_file, chunks=dict(x=512, y=512))\n",
    "    img = img.assign_coords(coords=dict(band=[\"RED\", \"GREEN\", \"BLUE\", \"NIR\"]))\n",
    "    timeseries.append(img)\n",
    "\n",
    "time_var = xr.Variable(\"time\", timestamps)\n",
    "\n",
    "timeseries = xr.concat(timeseries, dim=time_var)"
   ]
  },
  {
   "cell_type": "markdown",
   "id": "3f6d913b-9bce-4e22-895e-8b00bf5631dd",
   "metadata": {},
   "source": [
    "Nous avons chargé les images en utilisant [rioxarray](https://corteva.github.io/rioxarray/stable/)"
   ]
  },
  {
   "cell_type": "code",
   "execution_count": null,
   "id": "99f7dcb2-76db-46d3-831a-f11543f30ca2",
   "metadata": {},
   "outputs": [],
   "source": [
    "timeseries"
   ]
  },
  {
   "cell_type": "code",
   "execution_count": null,
   "id": "c26e066a-61aa-410c-b5b2-6fdd3d31b763",
   "metadata": {},
   "outputs": [],
   "source": [
    "# Notons que la série temporelle est \"lazy\" car on a utilisé l'option \"chunks\" de open_rasterio\n",
    "type(timeseries.data)"
   ]
  },
  {
   "cell_type": "markdown",
   "id": "94a59115-fea9-413f-a749-b5de271363fc",
   "metadata": {},
   "source": [
    "### Affichage de la série temporelle \n",
    "\n",
    "On utilise la fonction `.plot.imshow` de xarray\n",
    "\n",
    "Vous pouvez explorer la [documentation](https://docs.xarray.dev/en/stable/generated/xarray.plot.imshow.html) pour rendre l'affichage plus joli"
   ]
  },
  {
   "cell_type": "markdown",
   "id": "033d6d12-b09f-4a6c-8006-369ba3e7d09c",
   "metadata": {},
   "source": [
    "Zoom sur une vignette particulière de l'image globale (vous devriez reconnaître la zone)"
   ]
  },
  {
   "cell_type": "code",
   "execution_count": null,
   "id": "fd8b942e-d18b-4aa0-a0e5-4039c1bab505",
   "metadata": {},
   "outputs": [],
   "source": [
    "timeseries = timeseries[:, :, 3100:3400, 2200:2500]\n",
    "timeseries"
   ]
  },
  {
   "cell_type": "code",
   "execution_count": null,
   "id": "4defd0b3-5b07-4ab1-94c8-249e9262c97d",
   "metadata": {},
   "outputs": [],
   "source": [
    "timeseries.sel(band=[\"RED\", \"GREEN\", \"BLUE\"]).plot.imshow(col=\"time\", robust=True)"
   ]
  },
  {
   "cell_type": "code",
   "execution_count": null,
   "id": "b6deb6e9-a0ec-4003-8bf0-b176a741bfb4",
   "metadata": {},
   "outputs": [],
   "source": [
    "# Affichage de l'image RGB\n",
    "timeseries.sel(band=[\"RED\", \"GREEN\", \"BLUE\"]).plot.imshow(col=\"time\", robust=True)"
   ]
  },
  {
   "cell_type": "code",
   "execution_count": null,
   "id": "47118495-6cc8-44a2-a020-a153f2f0f401",
   "metadata": {},
   "outputs": [],
   "source": [
    "# Affichage de l'image fausses couleurs (PIR ROUGE VERT)\n",
    "timeseries.sel(band=[\"NIR\", \"RED\", \"GREEN\"]).plot.imshow(col=\"time\", robust=True)"
   ]
  },
  {
   "cell_type": "markdown",
   "id": "8574131a-dae0-4c32-9d6d-fd2c224acae5",
   "metadata": {},
   "source": [
    "Création d'un GIF animé"
   ]
  },
  {
   "cell_type": "code",
   "execution_count": null,
   "id": "b59b49ee-b0f8-47ef-9909-0aa40cdf62bd",
   "metadata": {},
   "outputs": [],
   "source": [
    "my_gif = geogif.dgif(timeseries.sel(band=[\"RED\", \"GREEN\", \"BLUE\"]), fps=1)"
   ]
  },
  {
   "cell_type": "code",
   "execution_count": null,
   "id": "718b4e74-ada3-41a2-86d1-ea94e3f4a87c",
   "metadata": {},
   "outputs": [],
   "source": [
    "my_gif.compute()"
   ]
  },
  {
   "cell_type": "markdown",
   "id": "adc9a0dc-0c89-46e4-84f0-85c25d795750",
   "metadata": {},
   "source": [
    "### Calcul du NDVI\n",
    "\n",
    "On utilise les fonctions xarray pour calculer le NDVI de notre série temporelle"
   ]
  },
  {
   "cell_type": "code",
   "execution_count": null,
   "id": "938f2c27-cd24-4213-a505-11bde84353b0",
   "metadata": {},
   "outputs": [],
   "source": [
    "red = timeseries.sel(band=[\"RED\"]).astype(np.float32) / 255.0\n",
    "nir = timeseries.sel(band=[\"NIR\"]).astype(np.float32) / 255.0\n",
    "red = red.assign_coords(coords=dict(band=[\"NDVI\"]))\n",
    "nir = nir.assign_coords(coords=dict(band=[\"NDVI\"]))"
   ]
  },
  {
   "cell_type": "code",
   "execution_count": null,
   "id": "401f336c-3aa3-4338-8fa9-d951ab986cb2",
   "metadata": {},
   "outputs": [],
   "source": [
    "# Notons encore une fois que le calcul n'est pas encore effectué\n",
    "red"
   ]
  },
  {
   "cell_type": "code",
   "execution_count": null,
   "id": "0479e164-a610-49b4-a42d-1caee701d694",
   "metadata": {},
   "outputs": [],
   "source": [
    "nir"
   ]
  },
  {
   "cell_type": "code",
   "execution_count": null,
   "id": "fd1f7488-df5f-40c7-82e6-e7f5f0e79a67",
   "metadata": {},
   "outputs": [],
   "source": [
    "ndvi = (nir - red) / (nir + red)"
   ]
  },
  {
   "cell_type": "code",
   "execution_count": null,
   "id": "c14e9d28-22b5-4893-90c3-7886e326a89e",
   "metadata": {},
   "outputs": [],
   "source": [
    "ndvi"
   ]
  },
  {
   "cell_type": "code",
   "execution_count": null,
   "id": "fcf7f1ae-2182-417f-9a73-246b88fa1d1c",
   "metadata": {},
   "outputs": [],
   "source": [
    "ndvi = ndvi.sel(band=[\"NDVI\"]).compute()"
   ]
  },
  {
   "cell_type": "code",
   "execution_count": null,
   "id": "7cca1532-9fdc-44e7-a8a8-e43078fd0f8d",
   "metadata": {},
   "outputs": [],
   "source": [
    "geogif.gif(ndvi, fps=1, cmap=\"viridis\")"
   ]
  },
  {
   "cell_type": "markdown",
   "id": "ddef2754-c3ed-45ef-b082-806cd0db6738",
   "metadata": {},
   "source": [
    "## 2 - Création d'un gif d'images satellites à partir d'un catalogue cloud\n",
    "\n",
    "Dans cette démo, nous allons manipuler les concepts \"haut niveau\" vu précédemment: \n",
    "- STAC\n",
    "- XARRAY\n",
    "\n",
    "En utilisant https://stackstac.readthedocs.io\n",
    "\n",
    "Le but de cette démo est de rester \"haut niveau\" pour voir \"l'état final des choses\". \n",
    "\n",
    "Dans le prochain cours nous allons construire nous même tous les éléments un par un"
   ]
  },
  {
   "cell_type": "code",
   "execution_count": null,
   "id": "b16e8aba-df40-48ae-bedb-c7149d756c34",
   "metadata": {},
   "outputs": [],
   "source": [
    "import json\n",
    "\n",
    "import dask.utils\n",
    "import geogif\n",
    "import geojson\n",
    "import geojsonio\n",
    "import geopandas\n",
    "import pystac_client\n",
    "import shapely.geometry\n",
    "import stackstac\n",
    "from rasterio.enums import Resampling"
   ]
  },
  {
   "cell_type": "markdown",
   "id": "5c2d7260-b3be-44a9-862e-6ab009c5adad",
   "metadata": {
    "toc-hr-collapsed": true
   },
   "source": [
    "### A la découverte des catalogues STAC"
   ]
  },
  {
   "cell_type": "markdown",
   "id": "3ed26dcc-8717-4397-82ca-d17246b0d0f0",
   "metadata": {},
   "source": [
    "Tout d'abord nous allons nous connecter au catalog des images Sentinel 2 sur AWS \n",
    "\n",
    "https://registry.opendata.aws/sentinel-2-l2a-cogs/\n",
    "\n",
    "❓ A quel catalogue accède-t-on ?\n",
    "\n",
    "❓ Qu'est-ce qu'un catalogue [STAC](https://stacspec.org/en) ?\n",
    "\n",
    "❓ Qu'est-ce qu'un produit [L2A](https://sentinels.copernicus.eu/web/sentinel/user-guides/sentinel-2-msi/product-types/level-2a) ?"
   ]
  },
  {
   "cell_type": "code",
   "execution_count": null,
   "id": "959510a4-c386-4000-be41-dbf11e00d368",
   "metadata": {},
   "outputs": [],
   "source": [
    "STAC_URL = \"https://earth-search.aws.element84.com/v0\""
   ]
  },
  {
   "cell_type": "markdown",
   "id": "1f628ccb-ba00-4457-895f-62a727adb26f",
   "metadata": {},
   "source": [
    "Nous allons rechercher toutes les images centrées sur Toulouse (ou toute autre localisation que vous souhaitez).\n",
    "\n",
    "Rendez-vous sur le site [geojson.io](http://geojson.io/#map=13/43.6043/1.4068) et dessinez une zone d'intérêt autour d'une zone de votre choix. Par exemple, Toulouse\n",
    "\n",
    "Exemple: \n",
    "\n",
    "```python\n",
    "aoi = {\n",
    "    \"type\": \"Polygon\",\n",
    "    \"coordinates\": [\n",
    "        [\n",
    "            [1.3260841369628906, 43.54568641528668],\n",
    "            [1.4970588684082031, 43.54568641528668],\n",
    "            [1.4970588684082031, 43.651106046724365],\n",
    "            [1.3260841369628906, 43.651106046724365],\n",
    "            [1.3260841369628906, 43.54568641528668],\n",
    "        ]\n",
    "    ],\n",
    "}\n",
    "```\n",
    "\n",
    "Ensuite, sélectionnez une plage temporelle\n",
    "\n",
    "Exemple : \n",
    "\n",
    "```python\n",
    "date_min, date_max = \"2022-01-01\", \"2022-12-31\"\n",
    "```"
   ]
  },
  {
   "cell_type": "code",
   "execution_count": null,
   "id": "b8234cad-26fe-4c18-a5b3-c148dae3817b",
   "metadata": {},
   "outputs": [],
   "source": [
    "aoi = ...\n",
    "\n",
    "date_min, date_max = ..., ..."
   ]
  },
  {
   "cell_type": "markdown",
   "id": "7e8e3b50-52e9-416d-b85c-324a12e1a951",
   "metadata": {},
   "source": [
    "Lançons une requête sur le catalogue STAC"
   ]
  },
  {
   "cell_type": "code",
   "execution_count": null,
   "id": "ef961cb3-9408-4870-abaf-8991bac8582b",
   "metadata": {},
   "outputs": [],
   "source": [
    "items = (\n",
    "    pystac_client.Client.open(STAC_URL)\n",
    "    .search(\n",
    "        intersects=aoi,\n",
    "        collections=[\"sentinel-s2-l2a-cogs\"],\n",
    "        datetime=\"{}/{}\".format(date_min, date_max),\n",
    "        limit=10_000,\n",
    "    )\n",
    "    .get_all_items()\n",
    ")"
   ]
  },
  {
   "cell_type": "markdown",
   "id": "7a360dd6-99ec-47b3-a17f-f88f316421db",
   "metadata": {},
   "source": [
    "Combien y-a-t-il d'images au catalogue ?"
   ]
  },
  {
   "cell_type": "code",
   "execution_count": null,
   "id": "e0730f8c-1dba-40a5-829c-3365674dad77",
   "metadata": {},
   "outputs": [],
   "source": [
    "len(items)"
   ]
  },
  {
   "cell_type": "markdown",
   "id": "a9dcf9e4-c096-45ca-9922-fe7fb8a67892",
   "metadata": {},
   "source": [
    "Explorons les \"items\" du catalogue"
   ]
  },
  {
   "cell_type": "code",
   "execution_count": null,
   "id": "ad57e797-ea66-4e91-b33e-447c0a2b48b0",
   "metadata": {},
   "outputs": [],
   "source": [
    "from copy import deepcopy\n",
    "\n",
    "import geopandas as gpd\n",
    "import pandas as pd\n",
    "from shapely.geometry import shape\n",
    "\n",
    "\n",
    "# convert a list of STAC Items into a GeoDataFrame\n",
    "def items_to_geodataframe(items):\n",
    "    _items = []\n",
    "    for i in items:\n",
    "        _i = deepcopy(i)\n",
    "        _i[\"geometry\"] = shape(_i[\"geometry\"])\n",
    "        _items.append(_i)\n",
    "    gdf = gpd.GeoDataFrame(pd.json_normalize(_items))\n",
    "    for field in [\"properties.datetime\", \"properties.created\", \"properties.updated\"]:\n",
    "        if field in gdf:\n",
    "            gdf[field] = pd.to_datetime(gdf[field])\n",
    "    gdf.set_index(\"properties.datetime\", inplace=True)\n",
    "    return gdf\n",
    "\n",
    "\n",
    "# convert found items to a GeoDataFrame\n",
    "items_gdf = items_to_geodataframe(items.to_dict()[\"features\"])\n",
    "items_gdf.head()"
   ]
  },
  {
   "cell_type": "markdown",
   "id": "2aba9d30-6967-48f3-97c9-3cac79d98662",
   "metadata": {},
   "source": [
    "Affichage dans geojson.io (ouvrir le lien dans le navigateur)"
   ]
  },
  {
   "cell_type": "code",
   "execution_count": null,
   "id": "16d8a824-c53d-4dd3-81b3-a7b7bcbdb3d6",
   "metadata": {},
   "outputs": [],
   "source": [
    "features = []\n",
    "\n",
    "for date, row in items_gdf.iterrows():\n",
    "    features.append(\n",
    "        geojson.Feature(geometry=shapely.geometry.mapping(row.get(\"geometry\")))\n",
    "    )\n",
    "\n",
    "link = geojsonio.display(features)\n",
    "\n",
    "print(link)"
   ]
  },
  {
   "cell_type": "markdown",
   "id": "af782ec8-0a03-42cc-a722-24c75dc12aee",
   "metadata": {},
   "source": [
    "### Chargement et traitement des images"
   ]
  },
  {
   "cell_type": "markdown",
   "id": "d6b7bd58-cb47-4e9a-b184-a529b6dfd9f8",
   "metadata": {},
   "source": [
    "On charge les items dans stackstac pour créer notre série temporelle.\n",
    "\n",
    "Par défaut, le tableau créé est \"lazy\", c'est à dire que les images ne sont pas chargées en mémoire, mais qu'on manipule une \"représentation\" de l'image"
   ]
  },
  {
   "cell_type": "code",
   "execution_count": null,
   "id": "76fc2a24-f4d3-461f-a344-40508cfe79f7",
   "metadata": {},
   "outputs": [],
   "source": [
    "RESOLUTION = 50  # Resample to 50m to avoid heavy computations"
   ]
  },
  {
   "cell_type": "code",
   "execution_count": null,
   "id": "64e212c9-48aa-4a3c-9c2a-810732339da8",
   "metadata": {},
   "outputs": [],
   "source": [
    "BOUNDS = shapely.geometry.shape(aoi).bounds"
   ]
  },
  {
   "cell_type": "code",
   "execution_count": null,
   "id": "5ed72a97-6d3b-48a7-bd9a-7199bd0d6070",
   "metadata": {},
   "outputs": [],
   "source": [
    "stack = stackstac.stack(\n",
    "    items,\n",
    "    resolution=RESOLUTION,\n",
    "    bounds_latlon=BOUNDS,\n",
    "    resampling=Resampling.bilinear,\n",
    "    assets=[\"B04\", \"B03\", \"B02\"],\n",
    ")"
   ]
  },
  {
   "cell_type": "code",
   "execution_count": null,
   "id": "b1ee46ca-c8e2-4502-ab4d-58f35ab09494",
   "metadata": {},
   "outputs": [],
   "source": [
    "stack"
   ]
  },
  {
   "cell_type": "code",
   "execution_count": null,
   "id": "ffd6288f-7d00-4f6a-8d3e-67fb59878c6a",
   "metadata": {},
   "outputs": [],
   "source": [
    "type(stack.data)"
   ]
  },
  {
   "cell_type": "markdown",
   "id": "8546af06-54c6-441e-915c-8bb5aa3de025",
   "metadata": {},
   "source": [
    "Select the visibles bands in RGB order"
   ]
  },
  {
   "cell_type": "code",
   "execution_count": null,
   "id": "72bacc54-ecf6-4e11-a42f-eb384a718ba9",
   "metadata": {},
   "outputs": [],
   "source": [
    "rgb = stack.sel(band=[\"B04\", \"B03\", \"B02\"])\n",
    "rgb"
   ]
  },
  {
   "cell_type": "markdown",
   "id": "cbafd888-ceb6-42f8-b84c-69c81fea380d",
   "metadata": {},
   "source": [
    "Faisons une série temporelle \"composite\" en utilisant la médiane par mois"
   ]
  },
  {
   "cell_type": "code",
   "execution_count": null,
   "id": "1328561a-cac1-47e4-83b2-526eea7e6f97",
   "metadata": {},
   "outputs": [],
   "source": [
    "monthly_rgb = rgb.resample(time=\"MS\").median(dim=\"time\")\n",
    "monthly_rgb"
   ]
  },
  {
   "cell_type": "markdown",
   "id": "17a77b4f-e7df-47c5-938c-dfecbfc597e6",
   "metadata": {},
   "source": [
    "Maintenant, nous allons lancer le calcul de notre série temporelle. Notez que jusqu'alors l'array était \"lazy\" c'est à dire qu'on ne manipulait que des représentations.\n",
    "\n",
    "Maintenant nous allons effectuer le calcul : "
   ]
  },
  {
   "cell_type": "code",
   "execution_count": null,
   "id": "c52aa09a-1f53-499a-b489-91f1c69b944e",
   "metadata": {},
   "outputs": [],
   "source": [
    "rgb = monthly_rgb.compute()"
   ]
  },
  {
   "cell_type": "code",
   "execution_count": null,
   "id": "21d2f38c-3d4c-4eca-89d2-d80578280608",
   "metadata": {},
   "outputs": [],
   "source": [
    "rgb"
   ]
  },
  {
   "cell_type": "markdown",
   "id": "6359dfc4-9965-47ca-b8ba-5fcb07cd76a3",
   "metadata": {},
   "source": [
    "On note que le tableau est maintenant en format numpy"
   ]
  },
  {
   "cell_type": "code",
   "execution_count": null,
   "id": "8a1ef313-558e-41a9-a17c-0667d831b7a3",
   "metadata": {},
   "outputs": [],
   "source": [
    "type(rgb.data)"
   ]
  },
  {
   "cell_type": "markdown",
   "id": "318cbe30-a020-4b97-838a-7c0a08b56130",
   "metadata": {},
   "source": [
    "On peut maintenant afficher les données"
   ]
  },
  {
   "cell_type": "code",
   "execution_count": null,
   "id": "4c4b32cf-0133-4834-ae2b-f806385894e5",
   "metadata": {},
   "outputs": [],
   "source": [
    "rgb.plot.imshow(row=\"time\", rgb=\"band\", robust=True, size=6);"
   ]
  },
  {
   "cell_type": "markdown",
   "id": "74244e6c-ab08-4ecb-ac37-c5c96f4c6fd5",
   "metadata": {},
   "source": [
    "Transformons ceci dans un gif !"
   ]
  },
  {
   "cell_type": "code",
   "execution_count": null,
   "id": "024e5c48-0421-4e37-94a4-8e05677a802d",
   "metadata": {
    "jupyter": {
     "source_hidden": true
    },
    "tags": []
   },
   "outputs": [],
   "source": [
    "gif = geogif.gif(rgb, fps=1, vmin=0, vmax=2048)"
   ]
  },
  {
   "cell_type": "code",
   "execution_count": null,
   "id": "f8549c90-6d79-41ea-9900-cc13edbe7273",
   "metadata": {},
   "outputs": [],
   "source": [
    "gif"
   ]
  },
  {
   "cell_type": "markdown",
   "id": "b9a2aa48-68cd-415f-a86b-410a4a82e825",
   "metadata": {},
   "source": [
    "### Pour aller plus loin\n",
    "\n",
    "Vous pouvez aller plus loin avec les tutoriaux suivants:\n",
    "\n",
    "https://stackstac.readthedocs.io/en/latest/examples/index.html\n",
    "\n",
    "https://stackstac.readthedocs.io/en/latest/examples/gif.html\n",
    "\n",
    "https://stackstac.readthedocs.io/en/latest/basic.html\n",
    "\n",
    "https://geogif.readthedocs.io/en/latest/index.html\n",
    "\n",
    "Dans les prochains BE, nous allons voir les détails qui se cachent derrière tout ça !\n",
    "\n",
    "D'autres lectures intéressantes\n",
    "\n",
    "- https://examples.dask.org/array.html\n",
    "- https://examples.dask.org/applications/satellite-imagery-geotiff.html\n",
    "- https://xarray-contrib.github.io/xarray-tutorial/scipy-tutorial/00_overview.html"
   ]
  },
  {
   "cell_type": "markdown",
   "id": "05e0fb30-96f3-49e3-af6a-36486a783104",
   "metadata": {},
   "source": [
    "## 3 - Exploration d'images satellites \"cogeotif\" dans le notebook jupyter\n",
    "\n",
    "Nous allons utiliser localtileserver pour explorer des [cogeotifs](https://www.cogeo.org/) depuis le jupyter notebook\n",
    "\n",
    "Cela permet de reproduire le fonctionnement \"google maps\" mais avec des propres images\n",
    "\n",
    "Nous allons utiliser [localtileserver](https://github.com/banesullivan/localtileserver) et [ipyleaflet](https://ipyleaflet.readthedocs.io/en/latest/)\n",
    "\n",
    "❓ Pouvez-vous brièvement décrire ces technologies"
   ]
  },
  {
   "cell_type": "code",
   "execution_count": null,
   "id": "3050defe-0e90-425e-b6b8-f5da727354d0",
   "metadata": {},
   "outputs": [],
   "source": [
    "from ipyleaflet import Map\n",
    "from localtileserver import TileClient, get_leaflet_tile_layer"
   ]
  },
  {
   "cell_type": "markdown",
   "id": "ba1a0a87-3fda-4317-ba3c-84bd08c9890d",
   "metadata": {},
   "source": [
    "Sélectionnez l'une des images que vous souhaitez visualiser"
   ]
  },
  {
   "cell_type": "code",
   "execution_count": null,
   "id": "eb3419e7-ab08-4eb4-93e2-9b6cb66478bd",
   "metadata": {},
   "outputs": [],
   "source": [
    "image = \"data/IMG_PHR1A_PMS_201908041045469_8bits.tif\""
   ]
  },
  {
   "cell_type": "code",
   "execution_count": null,
   "id": "0264a679-5cbc-492d-9ff3-e7ce18206c87",
   "metadata": {},
   "outputs": [],
   "source": [
    "# First, create a tile server from local raster file\n",
    "client = TileClient(image)\n",
    "\n",
    "# Create ipyleaflet tile layer from that server\n",
    "t = get_leaflet_tile_layer(client)\n",
    "\n",
    "m = Map(center=client.center(), zoom=client.default_zoom)\n",
    "m.add_layer(t)\n",
    "m"
   ]
  },
  {
   "cell_type": "markdown",
   "id": "9f1d4f31-5117-49b1-bfba-4f785523c350",
   "metadata": {},
   "source": [
    "Magie ?"
   ]
  }
 ],
 "metadata": {
  "kernelspec": {
   "display_name": "py39-isae",
   "language": "python",
   "name": "py39-isae"
  },
  "language_info": {
   "codemirror_mode": {
    "name": "ipython",
    "version": 3
   },
   "file_extension": ".py",
   "mimetype": "text/x-python",
   "name": "python",
   "nbconvert_exporter": "python",
   "pygments_lexer": "ipython3",
   "version": "3.9.14"
  }
 },
 "nbformat": 4,
 "nbformat_minor": 5
}
