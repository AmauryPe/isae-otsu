{
 "cells": [
  {
   "cell_type": "markdown",
   "id": "5f602e97-9bae-4f0f-9f7f-a3335a9419d6",
   "metadata": {
    "tags": []
   },
   "source": [
    "# Hands On \"Observing the Earth from your Jupyter Notebook\"\n",
    "\n",
    "Dans cette démo, nous allons manipuler les concepts \"haut niveau\" vu précédemment: \n",
    "- STAC\n",
    "- XARRAY\n",
    "\n",
    "En utilisant https://stackstac.readthedocs.io\n",
    "\n",
    "Le but de cette démo est de rester \"haut niveau\" pour voir \"l'état final des choses\". \n",
    "\n",
    "Dans le prochain cours nous allons construire nous même tous les éléments un par un"
   ]
  },
  {
   "cell_type": "code",
   "execution_count": null,
   "id": "6b58b72c-b751-4eb4-9f90-89f0be41fe24",
   "metadata": {},
   "outputs": [],
   "source": [
    "# !pip install dask[distributed] stackstac pystac_client rasterio geopandas shapely geojson geojsonio"
   ]
  },
  {
   "cell_type": "code",
   "execution_count": null,
   "id": "b16e8aba-df40-48ae-bedb-c7149d756c34",
   "metadata": {},
   "outputs": [],
   "source": [
    "import json\n",
    "import geojsonio\n",
    "import dask.utils\n",
    "import geogif\n",
    "import geojson\n",
    "import geopandas\n",
    "import pystac_client\n",
    "import shapely.geometry\n",
    "import stackstac\n",
    "from rasterio.enums import Resampling"
   ]
  },
  {
   "cell_type": "markdown",
   "id": "3ed26dcc-8717-4397-82ca-d17246b0d0f0",
   "metadata": {},
   "source": [
    "Tout d'abord nous allons nous connecter au catalog des images Sentinel 2 sur AWS \n",
    "\n",
    "https://registry.opendata.aws/sentinel-2-l2a-cogs/"
   ]
  },
  {
   "cell_type": "code",
   "execution_count": null,
   "id": "959510a4-c386-4000-be41-dbf11e00d368",
   "metadata": {},
   "outputs": [],
   "source": [
    "STAC_URL = \"https://earth-search.aws.element84.com/v0\""
   ]
  },
  {
   "cell_type": "markdown",
   "id": "1f628ccb-ba00-4457-895f-62a727adb26f",
   "metadata": {},
   "source": [
    "Nous allons rechercher toutes les images centrées sur Toulouse (ou toute autre localisation que vous souhaitez).\n",
    "\n",
    "Allez sur [geojson.io](http://geojson.io/#map=13/43.6043/1.4068) et dessinez une zone d'intérêt autour de Toulouse\n",
    "\n",
    "Exemple: \n",
    "\n",
    "```python\n",
    "aoi = {\n",
    "    \"type\": \"Polygon\",\n",
    "    \"coordinates\": [\n",
    "        [\n",
    "            [1.3260841369628906, 43.54568641528668],\n",
    "            [1.4970588684082031, 43.54568641528668],\n",
    "            [1.4970588684082031, 43.651106046724365],\n",
    "            [1.3260841369628906, 43.651106046724365],\n",
    "            [1.3260841369628906, 43.54568641528668],\n",
    "        ]\n",
    "    ],\n",
    "}\n",
    "```\n",
    "\n",
    "Ensuite, on sélectionne une plage temporelle"
   ]
  },
  {
   "cell_type": "code",
   "execution_count": null,
   "id": "b8234cad-26fe-4c18-a5b3-c148dae3817b",
   "metadata": {},
   "outputs": [],
   "source": [
    "aoi = ...\n",
    "date_min, date_max = \"2021-01-01\", \"2021-12-31\""
   ]
  },
  {
   "cell_type": "markdown",
   "id": "7e8e3b50-52e9-416d-b85c-324a12e1a951",
   "metadata": {},
   "source": [
    "Lançons une requête sur le catalogue"
   ]
  },
  {
   "cell_type": "code",
   "execution_count": null,
   "id": "ef961cb3-9408-4870-abaf-8991bac8582b",
   "metadata": {},
   "outputs": [],
   "source": [
    "items = (\n",
    "    pystac_client.Client.open(STAC_URL)\n",
    "    .search(\n",
    "        intersects=aoi,\n",
    "        collections=[\"sentinel-s2-l2a-cogs\"],\n",
    "        datetime=\"{}/{}\".format(date_min, date_max),\n",
    "        limit=10_000,\n",
    "    )\n",
    "    .get_all_items()\n",
    ")\n",
    "len(items)"
   ]
  },
  {
   "cell_type": "markdown",
   "id": "a9dcf9e4-c096-45ca-9922-fe7fb8a67892",
   "metadata": {},
   "source": [
    "Regardons un peu les \"Items\""
   ]
  },
  {
   "cell_type": "code",
   "execution_count": null,
   "id": "ad57e797-ea66-4e91-b33e-447c0a2b48b0",
   "metadata": {},
   "outputs": [],
   "source": [
    "from copy import deepcopy\n",
    "\n",
    "import geopandas as gpd\n",
    "import pandas as pd\n",
    "from shapely.geometry import shape\n",
    "\n",
    "\n",
    "# convert a list of STAC Items into a GeoDataFrame\n",
    "def items_to_geodataframe(items):\n",
    "    _items = []\n",
    "    for i in items:\n",
    "        _i = deepcopy(i)\n",
    "        _i[\"geometry\"] = shape(_i[\"geometry\"])\n",
    "        _items.append(_i)\n",
    "    gdf = gpd.GeoDataFrame(pd.json_normalize(_items))\n",
    "    for field in [\"properties.datetime\", \"properties.created\", \"properties.updated\"]:\n",
    "        if field in gdf:\n",
    "            gdf[field] = pd.to_datetime(gdf[field])\n",
    "    gdf.set_index(\"properties.datetime\", inplace=True)\n",
    "    return gdf\n",
    "\n",
    "\n",
    "# convert found items to a GeoDataFrame\n",
    "items_gdf = items_to_geodataframe(items.to_dict()[\"features\"])\n",
    "items_gdf.head()"
   ]
  },
  {
   "cell_type": "code",
   "execution_count": null,
   "id": "16d8a824-c53d-4dd3-81b3-a7b7bcbdb3d6",
   "metadata": {},
   "outputs": [],
   "source": [
    "features = []\n",
    "\n",
    "for date, row in items_gdf.iterrows():\n",
    "    features.append(geojson.Feature(geometry=shapely.geometry.mapping(row.get(\"geometry\"))))\n",
    "\n",
    "geojsonio.display(features)"
   ]
  },
  {
   "cell_type": "markdown",
   "id": "d6b7bd58-cb47-4e9a-b184-a529b6dfd9f8",
   "metadata": {},
   "source": [
    "On charge les items dans stackstac pour créer notre série temporelle.\n",
    "\n",
    "Par défaut, le tableau créé est \"lazy\""
   ]
  },
  {
   "cell_type": "code",
   "execution_count": null,
   "id": "76fc2a24-f4d3-461f-a344-40508cfe79f7",
   "metadata": {},
   "outputs": [],
   "source": [
    "RESOLUTION = 50  # Resample to 50m to avoid heavy computations"
   ]
  },
  {
   "cell_type": "code",
   "execution_count": null,
   "id": "64e212c9-48aa-4a3c-9c2a-810732339da8",
   "metadata": {},
   "outputs": [],
   "source": [
    "BOUNDS = shapely.geometry.shape(aoi).bounds"
   ]
  },
  {
   "cell_type": "code",
   "execution_count": null,
   "id": "5ed72a97-6d3b-48a7-bd9a-7199bd0d6070",
   "metadata": {},
   "outputs": [],
   "source": [
    "stack = stackstac.stack(\n",
    "    items,\n",
    "    resolution=RESOLUTION,\n",
    "    bounds_latlon=BOUNDS,\n",
    "    resampling=Resampling.bilinear,\n",
    "    assets=[\"B04\", \"B03\", \"B02\"],\n",
    ")"
   ]
  },
  {
   "cell_type": "code",
   "execution_count": null,
   "id": "b1ee46ca-c8e2-4502-ab4d-58f35ab09494",
   "metadata": {},
   "outputs": [],
   "source": [
    "stack"
   ]
  },
  {
   "cell_type": "code",
   "execution_count": null,
   "id": "ffd6288f-7d00-4f6a-8d3e-67fb59878c6a",
   "metadata": {},
   "outputs": [],
   "source": [
    "type(stack.data)"
   ]
  },
  {
   "cell_type": "markdown",
   "id": "8546af06-54c6-441e-915c-8bb5aa3de025",
   "metadata": {},
   "source": [
    "Select the visibles bands in RGB order"
   ]
  },
  {
   "cell_type": "code",
   "execution_count": null,
   "id": "72bacc54-ecf6-4e11-a42f-eb384a718ba9",
   "metadata": {},
   "outputs": [],
   "source": [
    "rgb = stack.sel(band=[\"B04\", \"B03\", \"B02\"])\n",
    "rgb"
   ]
  },
  {
   "cell_type": "markdown",
   "id": "cbafd888-ceb6-42f8-b84c-69c81fea380d",
   "metadata": {},
   "source": [
    "Faisons une série temporelle \"composite\" en utilisant la médiane"
   ]
  },
  {
   "cell_type": "code",
   "execution_count": null,
   "id": "1328561a-cac1-47e4-83b2-526eea7e6f97",
   "metadata": {},
   "outputs": [],
   "source": [
    "monthly_rgb = rgb.resample(time=\"MS\").median(dim=\"time\")\n",
    "monthly_rgb"
   ]
  },
  {
   "cell_type": "markdown",
   "id": "17a77b4f-e7df-47c5-938c-dfecbfc597e6",
   "metadata": {},
   "source": [
    "Maintenant, nous allons lancer le calcul de notre série temporelle. Notez que jusqu'alors l'array était \"lazy\" c'est à dire qu'on ne manipulait que des instructions.\n",
    "\n",
    "Maintenant nous allons effectuer le calcul : "
   ]
  },
  {
   "cell_type": "code",
   "execution_count": null,
   "id": "c52aa09a-1f53-499a-b489-91f1c69b944e",
   "metadata": {},
   "outputs": [],
   "source": [
    "rgb = monthly_rgb.compute()"
   ]
  },
  {
   "cell_type": "code",
   "execution_count": null,
   "id": "21d2f38c-3d4c-4eca-89d2-d80578280608",
   "metadata": {},
   "outputs": [],
   "source": [
    "rgb"
   ]
  },
  {
   "cell_type": "markdown",
   "id": "6359dfc4-9965-47ca-b8ba-5fcb07cd76a3",
   "metadata": {},
   "source": [
    "On note que le tableau est maintenant en format numpy"
   ]
  },
  {
   "cell_type": "code",
   "execution_count": null,
   "id": "8a1ef313-558e-41a9-a17c-0667d831b7a3",
   "metadata": {},
   "outputs": [],
   "source": [
    "type(rgb.data)"
   ]
  },
  {
   "cell_type": "markdown",
   "id": "318cbe30-a020-4b97-838a-7c0a08b56130",
   "metadata": {},
   "source": [
    "On peut maintenant afficher les données"
   ]
  },
  {
   "cell_type": "code",
   "execution_count": null,
   "id": "4c4b32cf-0133-4834-ae2b-f806385894e5",
   "metadata": {},
   "outputs": [],
   "source": [
    "rgb.plot.imshow(row=\"time\", rgb=\"band\", robust=True, size=6);"
   ]
  },
  {
   "cell_type": "markdown",
   "id": "74244e6c-ab08-4ecb-ac37-c5c96f4c6fd5",
   "metadata": {},
   "source": [
    "Transformons ceci dans un gif !"
   ]
  },
  {
   "cell_type": "code",
   "execution_count": null,
   "id": "024e5c48-0421-4e37-94a4-8e05677a802d",
   "metadata": {},
   "outputs": [],
   "source": [
    "gif = geogif.gif(rgb, fps=1, vmin=0, vmax=2048)"
   ]
  },
  {
   "cell_type": "code",
   "execution_count": null,
   "id": "f8549c90-6d79-41ea-9900-cc13edbe7273",
   "metadata": {},
   "outputs": [],
   "source": [
    "gif"
   ]
  },
  {
   "cell_type": "markdown",
   "id": "f00f246e-4d7e-48b4-bafc-2177737be70a",
   "metadata": {},
   "source": [
    "## Et voilà !\n",
    "\n",
    "Vous pouvez aller plus loin avec les tutoriaux suivants:\n",
    "\n",
    "https://stackstac.readthedocs.io/en/latest/examples/index.html\n",
    "\n",
    "https://stackstac.readthedocs.io/en/latest/examples/gif.html\n",
    "\n",
    "https://stackstac.readthedocs.io/en/latest/basic.html\n",
    "\n",
    "Dans les prochains BE, nous allons voir les détails qui se cachent derrière tout ça !"
   ]
  },
  {
   "cell_type": "markdown",
   "id": "b9a2aa48-68cd-415f-a86b-410a4a82e825",
   "metadata": {},
   "source": [
    "## Pour aller plus loin\n",
    "\n",
    "- https://examples.dask.org/array.html\n",
    "- https://examples.dask.org/applications/satellite-imagery-geotiff.html\n",
    "- https://xarray-contrib.github.io/xarray-tutorial/scipy-tutorial/00_overview.html"
   ]
  }
 ],
 "metadata": {
  "kernelspec": {
   "display_name": "py38-isae",
   "language": "python",
   "name": "py38-isae"
  },
  "language_info": {
   "codemirror_mode": {
    "name": "ipython",
    "version": 3
   },
   "file_extension": ".py",
   "mimetype": "text/x-python",
   "name": "python",
   "nbconvert_exporter": "python",
   "pygments_lexer": "ipython3",
   "version": "3.8.12"
  }
 },
 "nbformat": 4,
 "nbformat_minor": 5
}
